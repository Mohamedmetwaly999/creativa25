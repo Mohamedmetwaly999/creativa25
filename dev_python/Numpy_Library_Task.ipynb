{
  "cells": [
    {
      "cell_type": "markdown",
      "id": "ebccaeaf",
      "metadata": {
        "id": "ebccaeaf"
      },
      "source": [
        "# 1- Import"
      ]
    },
    {
      "cell_type": "code",
      "execution_count": null,
      "id": "9fb58b46",
      "metadata": {
        "id": "9fb58b46"
      },
      "outputs": [],
      "source": [
        "import numpy as np"
      ]
    },
    {
      "cell_type": "markdown",
      "id": "854ec30f",
      "metadata": {
        "id": "854ec30f"
      },
      "source": [
        "# 2- Create a numpy 5X5 matrix with ones at the borders & zeros inside.\n",
        "![image.png](attachment:image.png)"
      ]
    },
    {
      "cell_type": "code",
      "execution_count": null,
      "id": "6fe9683c",
      "metadata": {
        "colab": {
          "base_uri": "https://localhost:8080/"
        },
        "id": "6fe9683c",
        "outputId": "bab88b59-2aad-4773-a53c-4dab295fb410"
      },
      "outputs": [
        {
          "name": "stdout",
          "output_type": "stream",
          "text": [
            "[[1. 1. 1. 1. 1.]\n",
            " [1. 0. 0. 0. 1.]\n",
            " [1. 0. 0. 0. 1.]\n",
            " [1. 0. 0. 0. 1.]\n",
            " [1. 1. 1. 1. 1.]]\n"
          ]
        }
      ],
      "source": [
        "m = np.ones((5,5))\n",
        "m[1:4 ,1:4]=0\n",
        "print(m)"
      ]
    },
    {
      "cell_type": "markdown",
      "id": "d412636d",
      "metadata": {
        "id": "d412636d"
      },
      "source": [
        "# 3- Create a 5X5 matrix where the first diagonal = 1, while the second diagonal = 2, while other values=3.\n",
        "![image-2.png](attachment:image-2.png)"
      ]
    },
    {
      "cell_type": "code",
      "execution_count": null,
      "id": "c4bc8b85",
      "metadata": {
        "colab": {
          "base_uri": "https://localhost:8080/"
        },
        "id": "c4bc8b85",
        "outputId": "0437a772-ac44-45cd-9a87-0a1e32c8cf98"
      },
      "outputs": [
        {
          "name": "stdout",
          "output_type": "stream",
          "text": [
            "[[1 3 3 3 2]\n",
            " [3 1 3 2 3]\n",
            " [3 3 2 3 3]\n",
            " [3 2 3 1 3]\n",
            " [2 3 3 3 1]]\n"
          ]
        }
      ],
      "source": [
        "m= np.full((5,5),3)\n",
        "for i in range(5):\n",
        "  for j in range(5):\n",
        "      if i == j:\n",
        "        m[i][j]=1\n",
        "        m[i][-j-1]=2\n",
        "\n",
        "\n",
        "print(m)\n"
      ]
    },
    {
      "cell_type": "markdown",
      "id": "ed2b5b00",
      "metadata": {
        "id": "ed2b5b00"
      },
      "source": [
        "# 4- Consider representing parameters & biases of  the following system of linear algebra using matrices & Vectors:\n",
        "![image.png](attachment:image.png)"
      ]
    },
    {
      "cell_type": "code",
      "execution_count": null,
      "id": "3778e8f8",
      "metadata": {
        "colab": {
          "base_uri": "https://localhost:8080/"
        },
        "id": "3778e8f8",
        "outputId": "2f4b53f6-157c-4a68-9cab-cee2c3fb4fe3"
      },
      "outputs": [
        {
          "name": "stdout",
          "output_type": "stream",
          "text": [
            "w =  [[ 5  3]\n",
            " [ 3 -6]]\n",
            "X =  ['x1' 'x2']\n",
            "B =  [20 10]\n"
          ]
        }
      ],
      "source": [
        "# 5x1 + 3x2 = 20\n",
        "# 3x1 - 6x2 = 10\n",
        "\n",
        "w = np.array([[5 ,  3],\n",
        "              [3 , -6]])\n",
        "X = np.array(['x1','x2'])\n",
        "B = np.array([20 ,10])\n",
        "\n",
        "print (\"w = \",w)\n",
        "print (\"X = \",X)\n",
        "print (\"B = \",B)"
      ]
    },
    {
      "cell_type": "markdown",
      "id": "0b1f291a",
      "metadata": {
        "id": "0b1f291a"
      },
      "source": [
        "\n",
        "# 5- Create two matrices with any values you like and stack them vertically"
      ]
    },
    {
      "cell_type": "code",
      "execution_count": null,
      "id": "66d71485",
      "metadata": {
        "colab": {
          "base_uri": "https://localhost:8080/"
        },
        "id": "66d71485",
        "outputId": "2c10a644-69ad-441e-9441-59e7488c8c14"
      },
      "outputs": [
        {
          "name": "stdout",
          "output_type": "stream",
          "text": [
            "[[ 1  2  3]\n",
            " [ 4  5  6]\n",
            " [ 7  8  9]\n",
            " [ 2  4  6]\n",
            " [ 8 10 12]\n",
            " [14 16 18]]\n"
          ]
        }
      ],
      "source": [
        "m1 = np.array([[1 ,2 ,3],\n",
        "               [4 ,5 ,6],\n",
        "               [7 ,8 ,9]])\n",
        "m2 = np.array([[2 ,4 ,6],\n",
        "               [8 ,10 ,12],\n",
        "              [14 ,16 ,18]])\n",
        "m = np.vstack((m1,m2))\n",
        "print (m)"
      ]
    }
  ],
  "metadata": {
    "colab": {
      "provenance": []
    },
    "kernelspec": {
      "display_name": "Python 3 (ipykernel)",
      "language": "python",
      "name": "python3"
    },
    "language_info": {
      "codemirror_mode": {
        "name": "ipython",
        "version": 3
      },
      "file_extension": ".py",
      "mimetype": "text/x-python",
      "name": "python",
      "nbconvert_exporter": "python",
      "pygments_lexer": "ipython3",
      "version": "3.8.20"
    }
  },
  "nbformat": 4,
  "nbformat_minor": 5
}
