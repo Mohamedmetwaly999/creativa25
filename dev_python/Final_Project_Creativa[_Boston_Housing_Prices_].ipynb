{
  "nbformat": 4,
  "nbformat_minor": 0,
  "metadata": {
    "colab": {
      "provenance": []
    },
    "kernelspec": {
      "name": "python3",
      "display_name": "Python 3"
    },
    "language_info": {
      "name": "python"
    }
  },
  "cells": [
    {
      "cell_type": "markdown",
      "source": [
        "### **First Project**\n",
        "## **Project: Predicting Boston Housing Prices**\n"
      ],
      "metadata": {
        "id": "x0e-er1Tx1DX"
      }
    },
    {
      "cell_type": "code",
      "execution_count": 293,
      "metadata": {
        "colab": {
          "base_uri": "https://localhost:8080/",
          "height": 0
        },
        "id": "aJYxxd8Cv524",
        "outputId": "f6584ef1-0766-498b-97fe-c325faf008f2"
      },
      "outputs": [
        {
          "output_type": "stream",
          "name": "stdout",
          "text": [
            "Requirement already satisfied: visuals in /usr/local/lib/python3.11/dist-packages (1.2.9)\n",
            "Requirement already satisfied: crgb<2.0.0,>=1.0.2 in /usr/local/lib/python3.11/dist-packages (from visuals) (1.0.2)\n",
            "Requirement already satisfied: requests<3.0.0,>=2.31.0 in /usr/local/lib/python3.11/dist-packages (from crgb<2.0.0,>=1.0.2->visuals) (2.32.3)\n",
            "Requirement already satisfied: charset-normalizer<4,>=2 in /usr/local/lib/python3.11/dist-packages (from requests<3.0.0,>=2.31.0->crgb<2.0.0,>=1.0.2->visuals) (3.4.1)\n",
            "Requirement already satisfied: idna<4,>=2.5 in /usr/local/lib/python3.11/dist-packages (from requests<3.0.0,>=2.31.0->crgb<2.0.0,>=1.0.2->visuals) (3.10)\n",
            "Requirement already satisfied: urllib3<3,>=1.21.1 in /usr/local/lib/python3.11/dist-packages (from requests<3.0.0,>=2.31.0->crgb<2.0.0,>=1.0.2->visuals) (2.3.0)\n",
            "Requirement already satisfied: certifi>=2017.4.17 in /usr/local/lib/python3.11/dist-packages (from requests<3.0.0,>=2.31.0->crgb<2.0.0,>=1.0.2->visuals) (2025.1.31)\n"
          ]
        }
      ],
      "source": [
        "!pip install visuals\n",
        "\n",
        "import numpy as np\n",
        "import numpy as np\n",
        "import pandas as pd\n",
        "import seaborn as sns\n",
        "import matplotlib.pyplot as plt\n",
        "%matplotlib inline\n",
        "\n",
        "import visuals as vs # Supplementary code\n",
        "from sklearn.model_selection import ShuffleSplit"
      ]
    },
    {
      "cell_type": "code",
      "source": [
        "# Load the Boston housing dataset\n",
        "data = pd.read_csv('housing.csv')\n",
        "data.head()"
      ],
      "metadata": {
        "colab": {
          "base_uri": "https://localhost:8080/",
          "height": 206
        },
        "id": "pKPrhxihzsO2",
        "outputId": "dd249b26-9d62-46e2-c960-60425d4b2343"
      },
      "execution_count": 294,
      "outputs": [
        {
          "output_type": "execute_result",
          "data": {
            "text/plain": [
              "      RM  LSTAT  PTRATIO      MEDV\n",
              "0  6.575   4.98     15.3  504000.0\n",
              "1  6.421   9.14     17.8  453600.0\n",
              "2  7.185   4.03     17.8  728700.0\n",
              "3  6.998   2.94     18.7  701400.0\n",
              "4  7.147   5.33     18.7  760200.0"
            ],
            "text/html": [
              "\n",
              "  <div id=\"df-b56e0dbb-85f2-41f8-bcad-033c1eea025f\" class=\"colab-df-container\">\n",
              "    <div>\n",
              "<style scoped>\n",
              "    .dataframe tbody tr th:only-of-type {\n",
              "        vertical-align: middle;\n",
              "    }\n",
              "\n",
              "    .dataframe tbody tr th {\n",
              "        vertical-align: top;\n",
              "    }\n",
              "\n",
              "    .dataframe thead th {\n",
              "        text-align: right;\n",
              "    }\n",
              "</style>\n",
              "<table border=\"1\" class=\"dataframe\">\n",
              "  <thead>\n",
              "    <tr style=\"text-align: right;\">\n",
              "      <th></th>\n",
              "      <th>RM</th>\n",
              "      <th>LSTAT</th>\n",
              "      <th>PTRATIO</th>\n",
              "      <th>MEDV</th>\n",
              "    </tr>\n",
              "  </thead>\n",
              "  <tbody>\n",
              "    <tr>\n",
              "      <th>0</th>\n",
              "      <td>6.575</td>\n",
              "      <td>4.98</td>\n",
              "      <td>15.3</td>\n",
              "      <td>504000.0</td>\n",
              "    </tr>\n",
              "    <tr>\n",
              "      <th>1</th>\n",
              "      <td>6.421</td>\n",
              "      <td>9.14</td>\n",
              "      <td>17.8</td>\n",
              "      <td>453600.0</td>\n",
              "    </tr>\n",
              "    <tr>\n",
              "      <th>2</th>\n",
              "      <td>7.185</td>\n",
              "      <td>4.03</td>\n",
              "      <td>17.8</td>\n",
              "      <td>728700.0</td>\n",
              "    </tr>\n",
              "    <tr>\n",
              "      <th>3</th>\n",
              "      <td>6.998</td>\n",
              "      <td>2.94</td>\n",
              "      <td>18.7</td>\n",
              "      <td>701400.0</td>\n",
              "    </tr>\n",
              "    <tr>\n",
              "      <th>4</th>\n",
              "      <td>7.147</td>\n",
              "      <td>5.33</td>\n",
              "      <td>18.7</td>\n",
              "      <td>760200.0</td>\n",
              "    </tr>\n",
              "  </tbody>\n",
              "</table>\n",
              "</div>\n",
              "    <div class=\"colab-df-buttons\">\n",
              "\n",
              "  <div class=\"colab-df-container\">\n",
              "    <button class=\"colab-df-convert\" onclick=\"convertToInteractive('df-b56e0dbb-85f2-41f8-bcad-033c1eea025f')\"\n",
              "            title=\"Convert this dataframe to an interactive table.\"\n",
              "            style=\"display:none;\">\n",
              "\n",
              "  <svg xmlns=\"http://www.w3.org/2000/svg\" height=\"24px\" viewBox=\"0 -960 960 960\">\n",
              "    <path d=\"M120-120v-720h720v720H120Zm60-500h600v-160H180v160Zm220 220h160v-160H400v160Zm0 220h160v-160H400v160ZM180-400h160v-160H180v160Zm440 0h160v-160H620v160ZM180-180h160v-160H180v160Zm440 0h160v-160H620v160Z\"/>\n",
              "  </svg>\n",
              "    </button>\n",
              "\n",
              "  <style>\n",
              "    .colab-df-container {\n",
              "      display:flex;\n",
              "      gap: 12px;\n",
              "    }\n",
              "\n",
              "    .colab-df-convert {\n",
              "      background-color: #E8F0FE;\n",
              "      border: none;\n",
              "      border-radius: 50%;\n",
              "      cursor: pointer;\n",
              "      display: none;\n",
              "      fill: #1967D2;\n",
              "      height: 32px;\n",
              "      padding: 0 0 0 0;\n",
              "      width: 32px;\n",
              "    }\n",
              "\n",
              "    .colab-df-convert:hover {\n",
              "      background-color: #E2EBFA;\n",
              "      box-shadow: 0px 1px 2px rgba(60, 64, 67, 0.3), 0px 1px 3px 1px rgba(60, 64, 67, 0.15);\n",
              "      fill: #174EA6;\n",
              "    }\n",
              "\n",
              "    .colab-df-buttons div {\n",
              "      margin-bottom: 4px;\n",
              "    }\n",
              "\n",
              "    [theme=dark] .colab-df-convert {\n",
              "      background-color: #3B4455;\n",
              "      fill: #D2E3FC;\n",
              "    }\n",
              "\n",
              "    [theme=dark] .colab-df-convert:hover {\n",
              "      background-color: #434B5C;\n",
              "      box-shadow: 0px 1px 3px 1px rgba(0, 0, 0, 0.15);\n",
              "      filter: drop-shadow(0px 1px 2px rgba(0, 0, 0, 0.3));\n",
              "      fill: #FFFFFF;\n",
              "    }\n",
              "  </style>\n",
              "\n",
              "    <script>\n",
              "      const buttonEl =\n",
              "        document.querySelector('#df-b56e0dbb-85f2-41f8-bcad-033c1eea025f button.colab-df-convert');\n",
              "      buttonEl.style.display =\n",
              "        google.colab.kernel.accessAllowed ? 'block' : 'none';\n",
              "\n",
              "      async function convertToInteractive(key) {\n",
              "        const element = document.querySelector('#df-b56e0dbb-85f2-41f8-bcad-033c1eea025f');\n",
              "        const dataTable =\n",
              "          await google.colab.kernel.invokeFunction('convertToInteractive',\n",
              "                                                    [key], {});\n",
              "        if (!dataTable) return;\n",
              "\n",
              "        const docLinkHtml = 'Like what you see? Visit the ' +\n",
              "          '<a target=\"_blank\" href=https://colab.research.google.com/notebooks/data_table.ipynb>data table notebook</a>'\n",
              "          + ' to learn more about interactive tables.';\n",
              "        element.innerHTML = '';\n",
              "        dataTable['output_type'] = 'display_data';\n",
              "        await google.colab.output.renderOutput(dataTable, element);\n",
              "        const docLink = document.createElement('div');\n",
              "        docLink.innerHTML = docLinkHtml;\n",
              "        element.appendChild(docLink);\n",
              "      }\n",
              "    </script>\n",
              "  </div>\n",
              "\n",
              "\n",
              "<div id=\"df-c21ef85c-07ec-45bd-80f3-063f3671951a\">\n",
              "  <button class=\"colab-df-quickchart\" onclick=\"quickchart('df-c21ef85c-07ec-45bd-80f3-063f3671951a')\"\n",
              "            title=\"Suggest charts\"\n",
              "            style=\"display:none;\">\n",
              "\n",
              "<svg xmlns=\"http://www.w3.org/2000/svg\" height=\"24px\"viewBox=\"0 0 24 24\"\n",
              "     width=\"24px\">\n",
              "    <g>\n",
              "        <path d=\"M19 3H5c-1.1 0-2 .9-2 2v14c0 1.1.9 2 2 2h14c1.1 0 2-.9 2-2V5c0-1.1-.9-2-2-2zM9 17H7v-7h2v7zm4 0h-2V7h2v10zm4 0h-2v-4h2v4z\"/>\n",
              "    </g>\n",
              "</svg>\n",
              "  </button>\n",
              "\n",
              "<style>\n",
              "  .colab-df-quickchart {\n",
              "      --bg-color: #E8F0FE;\n",
              "      --fill-color: #1967D2;\n",
              "      --hover-bg-color: #E2EBFA;\n",
              "      --hover-fill-color: #174EA6;\n",
              "      --disabled-fill-color: #AAA;\n",
              "      --disabled-bg-color: #DDD;\n",
              "  }\n",
              "\n",
              "  [theme=dark] .colab-df-quickchart {\n",
              "      --bg-color: #3B4455;\n",
              "      --fill-color: #D2E3FC;\n",
              "      --hover-bg-color: #434B5C;\n",
              "      --hover-fill-color: #FFFFFF;\n",
              "      --disabled-bg-color: #3B4455;\n",
              "      --disabled-fill-color: #666;\n",
              "  }\n",
              "\n",
              "  .colab-df-quickchart {\n",
              "    background-color: var(--bg-color);\n",
              "    border: none;\n",
              "    border-radius: 50%;\n",
              "    cursor: pointer;\n",
              "    display: none;\n",
              "    fill: var(--fill-color);\n",
              "    height: 32px;\n",
              "    padding: 0;\n",
              "    width: 32px;\n",
              "  }\n",
              "\n",
              "  .colab-df-quickchart:hover {\n",
              "    background-color: var(--hover-bg-color);\n",
              "    box-shadow: 0 1px 2px rgba(60, 64, 67, 0.3), 0 1px 3px 1px rgba(60, 64, 67, 0.15);\n",
              "    fill: var(--button-hover-fill-color);\n",
              "  }\n",
              "\n",
              "  .colab-df-quickchart-complete:disabled,\n",
              "  .colab-df-quickchart-complete:disabled:hover {\n",
              "    background-color: var(--disabled-bg-color);\n",
              "    fill: var(--disabled-fill-color);\n",
              "    box-shadow: none;\n",
              "  }\n",
              "\n",
              "  .colab-df-spinner {\n",
              "    border: 2px solid var(--fill-color);\n",
              "    border-color: transparent;\n",
              "    border-bottom-color: var(--fill-color);\n",
              "    animation:\n",
              "      spin 1s steps(1) infinite;\n",
              "  }\n",
              "\n",
              "  @keyframes spin {\n",
              "    0% {\n",
              "      border-color: transparent;\n",
              "      border-bottom-color: var(--fill-color);\n",
              "      border-left-color: var(--fill-color);\n",
              "    }\n",
              "    20% {\n",
              "      border-color: transparent;\n",
              "      border-left-color: var(--fill-color);\n",
              "      border-top-color: var(--fill-color);\n",
              "    }\n",
              "    30% {\n",
              "      border-color: transparent;\n",
              "      border-left-color: var(--fill-color);\n",
              "      border-top-color: var(--fill-color);\n",
              "      border-right-color: var(--fill-color);\n",
              "    }\n",
              "    40% {\n",
              "      border-color: transparent;\n",
              "      border-right-color: var(--fill-color);\n",
              "      border-top-color: var(--fill-color);\n",
              "    }\n",
              "    60% {\n",
              "      border-color: transparent;\n",
              "      border-right-color: var(--fill-color);\n",
              "    }\n",
              "    80% {\n",
              "      border-color: transparent;\n",
              "      border-right-color: var(--fill-color);\n",
              "      border-bottom-color: var(--fill-color);\n",
              "    }\n",
              "    90% {\n",
              "      border-color: transparent;\n",
              "      border-bottom-color: var(--fill-color);\n",
              "    }\n",
              "  }\n",
              "</style>\n",
              "\n",
              "  <script>\n",
              "    async function quickchart(key) {\n",
              "      const quickchartButtonEl =\n",
              "        document.querySelector('#' + key + ' button');\n",
              "      quickchartButtonEl.disabled = true;  // To prevent multiple clicks.\n",
              "      quickchartButtonEl.classList.add('colab-df-spinner');\n",
              "      try {\n",
              "        const charts = await google.colab.kernel.invokeFunction(\n",
              "            'suggestCharts', [key], {});\n",
              "      } catch (error) {\n",
              "        console.error('Error during call to suggestCharts:', error);\n",
              "      }\n",
              "      quickchartButtonEl.classList.remove('colab-df-spinner');\n",
              "      quickchartButtonEl.classList.add('colab-df-quickchart-complete');\n",
              "    }\n",
              "    (() => {\n",
              "      let quickchartButtonEl =\n",
              "        document.querySelector('#df-c21ef85c-07ec-45bd-80f3-063f3671951a button');\n",
              "      quickchartButtonEl.style.display =\n",
              "        google.colab.kernel.accessAllowed ? 'block' : 'none';\n",
              "    })();\n",
              "  </script>\n",
              "</div>\n",
              "\n",
              "    </div>\n",
              "  </div>\n"
            ],
            "application/vnd.google.colaboratory.intrinsic+json": {
              "type": "dataframe",
              "variable_name": "data",
              "summary": "{\n  \"name\": \"data\",\n  \"rows\": 489,\n  \"fields\": [\n    {\n      \"column\": \"RM\",\n      \"properties\": {\n        \"dtype\": \"number\",\n        \"std\": 0.6436497627572431,\n        \"min\": 3.561,\n        \"max\": 8.398,\n        \"num_unique_values\": 430,\n        \"samples\": [\n          5.67,\n          6.232,\n          6.8\n        ],\n        \"semantic_type\": \"\",\n        \"description\": \"\"\n      }\n    },\n    {\n      \"column\": \"LSTAT\",\n      \"properties\": {\n        \"dtype\": \"number\",\n        \"std\": 7.081989789065134,\n        \"min\": 1.98,\n        \"max\": 37.97,\n        \"num_unique_values\": 442,\n        \"samples\": [\n          12.73,\n          4.14,\n          5.52\n        ],\n        \"semantic_type\": \"\",\n        \"description\": \"\"\n      }\n    },\n    {\n      \"column\": \"PTRATIO\",\n      \"properties\": {\n        \"dtype\": \"number\",\n        \"std\": 2.1112675026309873,\n        \"min\": 12.6,\n        \"max\": 22.0,\n        \"num_unique_values\": 44,\n        \"samples\": [\n          19.6,\n          16.6,\n          15.6\n        ],\n        \"semantic_type\": \"\",\n        \"description\": \"\"\n      }\n    },\n    {\n      \"column\": \"MEDV\",\n      \"properties\": {\n        \"dtype\": \"number\",\n        \"std\": 165340.27765266786,\n        \"min\": 105000.0,\n        \"max\": 1024800.0,\n        \"num_unique_values\": 228,\n        \"samples\": [\n          296100.0,\n          472500.0,\n          396900.0\n        ],\n        \"semantic_type\": \"\",\n        \"description\": \"\"\n      }\n    }\n  ]\n}"
            }
          },
          "metadata": {},
          "execution_count": 294
        }
      ]
    },
    {
      "cell_type": "markdown",
      "source": [
        "### **Type of all data**"
      ],
      "metadata": {
        "id": "PNJzV7ldrDuN"
      }
    },
    {
      "cell_type": "code",
      "source": [
        "dtypes = data.dtypes\n",
        "n_uniq = data.nunique()\n",
        "pd.DataFrame({\"Dtypes\": dtypes, \"Num_Uniqe\": n_uniq}).T"
      ],
      "metadata": {
        "colab": {
          "base_uri": "https://localhost:8080/",
          "height": 112
        },
        "id": "xAy7cJWQrDZC",
        "outputId": "d07d4b60-2479-49a4-e22f-0d6300a3ebf6"
      },
      "execution_count": 295,
      "outputs": [
        {
          "output_type": "execute_result",
          "data": {
            "text/plain": [
              "                RM    LSTAT  PTRATIO     MEDV\n",
              "Dtypes     float64  float64  float64  float64\n",
              "Num_Uniqe      430      442       44      228"
            ],
            "text/html": [
              "\n",
              "  <div id=\"df-9cb1cc3b-e6f6-4f62-b3c4-cb14624438ec\" class=\"colab-df-container\">\n",
              "    <div>\n",
              "<style scoped>\n",
              "    .dataframe tbody tr th:only-of-type {\n",
              "        vertical-align: middle;\n",
              "    }\n",
              "\n",
              "    .dataframe tbody tr th {\n",
              "        vertical-align: top;\n",
              "    }\n",
              "\n",
              "    .dataframe thead th {\n",
              "        text-align: right;\n",
              "    }\n",
              "</style>\n",
              "<table border=\"1\" class=\"dataframe\">\n",
              "  <thead>\n",
              "    <tr style=\"text-align: right;\">\n",
              "      <th></th>\n",
              "      <th>RM</th>\n",
              "      <th>LSTAT</th>\n",
              "      <th>PTRATIO</th>\n",
              "      <th>MEDV</th>\n",
              "    </tr>\n",
              "  </thead>\n",
              "  <tbody>\n",
              "    <tr>\n",
              "      <th>Dtypes</th>\n",
              "      <td>float64</td>\n",
              "      <td>float64</td>\n",
              "      <td>float64</td>\n",
              "      <td>float64</td>\n",
              "    </tr>\n",
              "    <tr>\n",
              "      <th>Num_Uniqe</th>\n",
              "      <td>430</td>\n",
              "      <td>442</td>\n",
              "      <td>44</td>\n",
              "      <td>228</td>\n",
              "    </tr>\n",
              "  </tbody>\n",
              "</table>\n",
              "</div>\n",
              "    <div class=\"colab-df-buttons\">\n",
              "\n",
              "  <div class=\"colab-df-container\">\n",
              "    <button class=\"colab-df-convert\" onclick=\"convertToInteractive('df-9cb1cc3b-e6f6-4f62-b3c4-cb14624438ec')\"\n",
              "            title=\"Convert this dataframe to an interactive table.\"\n",
              "            style=\"display:none;\">\n",
              "\n",
              "  <svg xmlns=\"http://www.w3.org/2000/svg\" height=\"24px\" viewBox=\"0 -960 960 960\">\n",
              "    <path d=\"M120-120v-720h720v720H120Zm60-500h600v-160H180v160Zm220 220h160v-160H400v160Zm0 220h160v-160H400v160ZM180-400h160v-160H180v160Zm440 0h160v-160H620v160ZM180-180h160v-160H180v160Zm440 0h160v-160H620v160Z\"/>\n",
              "  </svg>\n",
              "    </button>\n",
              "\n",
              "  <style>\n",
              "    .colab-df-container {\n",
              "      display:flex;\n",
              "      gap: 12px;\n",
              "    }\n",
              "\n",
              "    .colab-df-convert {\n",
              "      background-color: #E8F0FE;\n",
              "      border: none;\n",
              "      border-radius: 50%;\n",
              "      cursor: pointer;\n",
              "      display: none;\n",
              "      fill: #1967D2;\n",
              "      height: 32px;\n",
              "      padding: 0 0 0 0;\n",
              "      width: 32px;\n",
              "    }\n",
              "\n",
              "    .colab-df-convert:hover {\n",
              "      background-color: #E2EBFA;\n",
              "      box-shadow: 0px 1px 2px rgba(60, 64, 67, 0.3), 0px 1px 3px 1px rgba(60, 64, 67, 0.15);\n",
              "      fill: #174EA6;\n",
              "    }\n",
              "\n",
              "    .colab-df-buttons div {\n",
              "      margin-bottom: 4px;\n",
              "    }\n",
              "\n",
              "    [theme=dark] .colab-df-convert {\n",
              "      background-color: #3B4455;\n",
              "      fill: #D2E3FC;\n",
              "    }\n",
              "\n",
              "    [theme=dark] .colab-df-convert:hover {\n",
              "      background-color: #434B5C;\n",
              "      box-shadow: 0px 1px 3px 1px rgba(0, 0, 0, 0.15);\n",
              "      filter: drop-shadow(0px 1px 2px rgba(0, 0, 0, 0.3));\n",
              "      fill: #FFFFFF;\n",
              "    }\n",
              "  </style>\n",
              "\n",
              "    <script>\n",
              "      const buttonEl =\n",
              "        document.querySelector('#df-9cb1cc3b-e6f6-4f62-b3c4-cb14624438ec button.colab-df-convert');\n",
              "      buttonEl.style.display =\n",
              "        google.colab.kernel.accessAllowed ? 'block' : 'none';\n",
              "\n",
              "      async function convertToInteractive(key) {\n",
              "        const element = document.querySelector('#df-9cb1cc3b-e6f6-4f62-b3c4-cb14624438ec');\n",
              "        const dataTable =\n",
              "          await google.colab.kernel.invokeFunction('convertToInteractive',\n",
              "                                                    [key], {});\n",
              "        if (!dataTable) return;\n",
              "\n",
              "        const docLinkHtml = 'Like what you see? Visit the ' +\n",
              "          '<a target=\"_blank\" href=https://colab.research.google.com/notebooks/data_table.ipynb>data table notebook</a>'\n",
              "          + ' to learn more about interactive tables.';\n",
              "        element.innerHTML = '';\n",
              "        dataTable['output_type'] = 'display_data';\n",
              "        await google.colab.output.renderOutput(dataTable, element);\n",
              "        const docLink = document.createElement('div');\n",
              "        docLink.innerHTML = docLinkHtml;\n",
              "        element.appendChild(docLink);\n",
              "      }\n",
              "    </script>\n",
              "  </div>\n",
              "\n",
              "\n",
              "<div id=\"df-f17d78cc-3908-4ecd-87aa-0593f8aa94ab\">\n",
              "  <button class=\"colab-df-quickchart\" onclick=\"quickchart('df-f17d78cc-3908-4ecd-87aa-0593f8aa94ab')\"\n",
              "            title=\"Suggest charts\"\n",
              "            style=\"display:none;\">\n",
              "\n",
              "<svg xmlns=\"http://www.w3.org/2000/svg\" height=\"24px\"viewBox=\"0 0 24 24\"\n",
              "     width=\"24px\">\n",
              "    <g>\n",
              "        <path d=\"M19 3H5c-1.1 0-2 .9-2 2v14c0 1.1.9 2 2 2h14c1.1 0 2-.9 2-2V5c0-1.1-.9-2-2-2zM9 17H7v-7h2v7zm4 0h-2V7h2v10zm4 0h-2v-4h2v4z\"/>\n",
              "    </g>\n",
              "</svg>\n",
              "  </button>\n",
              "\n",
              "<style>\n",
              "  .colab-df-quickchart {\n",
              "      --bg-color: #E8F0FE;\n",
              "      --fill-color: #1967D2;\n",
              "      --hover-bg-color: #E2EBFA;\n",
              "      --hover-fill-color: #174EA6;\n",
              "      --disabled-fill-color: #AAA;\n",
              "      --disabled-bg-color: #DDD;\n",
              "  }\n",
              "\n",
              "  [theme=dark] .colab-df-quickchart {\n",
              "      --bg-color: #3B4455;\n",
              "      --fill-color: #D2E3FC;\n",
              "      --hover-bg-color: #434B5C;\n",
              "      --hover-fill-color: #FFFFFF;\n",
              "      --disabled-bg-color: #3B4455;\n",
              "      --disabled-fill-color: #666;\n",
              "  }\n",
              "\n",
              "  .colab-df-quickchart {\n",
              "    background-color: var(--bg-color);\n",
              "    border: none;\n",
              "    border-radius: 50%;\n",
              "    cursor: pointer;\n",
              "    display: none;\n",
              "    fill: var(--fill-color);\n",
              "    height: 32px;\n",
              "    padding: 0;\n",
              "    width: 32px;\n",
              "  }\n",
              "\n",
              "  .colab-df-quickchart:hover {\n",
              "    background-color: var(--hover-bg-color);\n",
              "    box-shadow: 0 1px 2px rgba(60, 64, 67, 0.3), 0 1px 3px 1px rgba(60, 64, 67, 0.15);\n",
              "    fill: var(--button-hover-fill-color);\n",
              "  }\n",
              "\n",
              "  .colab-df-quickchart-complete:disabled,\n",
              "  .colab-df-quickchart-complete:disabled:hover {\n",
              "    background-color: var(--disabled-bg-color);\n",
              "    fill: var(--disabled-fill-color);\n",
              "    box-shadow: none;\n",
              "  }\n",
              "\n",
              "  .colab-df-spinner {\n",
              "    border: 2px solid var(--fill-color);\n",
              "    border-color: transparent;\n",
              "    border-bottom-color: var(--fill-color);\n",
              "    animation:\n",
              "      spin 1s steps(1) infinite;\n",
              "  }\n",
              "\n",
              "  @keyframes spin {\n",
              "    0% {\n",
              "      border-color: transparent;\n",
              "      border-bottom-color: var(--fill-color);\n",
              "      border-left-color: var(--fill-color);\n",
              "    }\n",
              "    20% {\n",
              "      border-color: transparent;\n",
              "      border-left-color: var(--fill-color);\n",
              "      border-top-color: var(--fill-color);\n",
              "    }\n",
              "    30% {\n",
              "      border-color: transparent;\n",
              "      border-left-color: var(--fill-color);\n",
              "      border-top-color: var(--fill-color);\n",
              "      border-right-color: var(--fill-color);\n",
              "    }\n",
              "    40% {\n",
              "      border-color: transparent;\n",
              "      border-right-color: var(--fill-color);\n",
              "      border-top-color: var(--fill-color);\n",
              "    }\n",
              "    60% {\n",
              "      border-color: transparent;\n",
              "      border-right-color: var(--fill-color);\n",
              "    }\n",
              "    80% {\n",
              "      border-color: transparent;\n",
              "      border-right-color: var(--fill-color);\n",
              "      border-bottom-color: var(--fill-color);\n",
              "    }\n",
              "    90% {\n",
              "      border-color: transparent;\n",
              "      border-bottom-color: var(--fill-color);\n",
              "    }\n",
              "  }\n",
              "</style>\n",
              "\n",
              "  <script>\n",
              "    async function quickchart(key) {\n",
              "      const quickchartButtonEl =\n",
              "        document.querySelector('#' + key + ' button');\n",
              "      quickchartButtonEl.disabled = true;  // To prevent multiple clicks.\n",
              "      quickchartButtonEl.classList.add('colab-df-spinner');\n",
              "      try {\n",
              "        const charts = await google.colab.kernel.invokeFunction(\n",
              "            'suggestCharts', [key], {});\n",
              "      } catch (error) {\n",
              "        console.error('Error during call to suggestCharts:', error);\n",
              "      }\n",
              "      quickchartButtonEl.classList.remove('colab-df-spinner');\n",
              "      quickchartButtonEl.classList.add('colab-df-quickchart-complete');\n",
              "    }\n",
              "    (() => {\n",
              "      let quickchartButtonEl =\n",
              "        document.querySelector('#df-f17d78cc-3908-4ecd-87aa-0593f8aa94ab button');\n",
              "      quickchartButtonEl.style.display =\n",
              "        google.colab.kernel.accessAllowed ? 'block' : 'none';\n",
              "    })();\n",
              "  </script>\n",
              "</div>\n",
              "\n",
              "    </div>\n",
              "  </div>\n"
            ],
            "application/vnd.google.colaboratory.intrinsic+json": {
              "type": "dataframe",
              "summary": "{\n  \"name\": \"pd\",\n  \"rows\": 2,\n  \"fields\": [\n    {\n      \"column\": \"RM\",\n      \"properties\": {\n        \"dtype\": \"string\",\n        \"num_unique_values\": 2,\n        \"samples\": [\n          430,\n          \"float64\"\n        ],\n        \"semantic_type\": \"\",\n        \"description\": \"\"\n      }\n    },\n    {\n      \"column\": \"LSTAT\",\n      \"properties\": {\n        \"dtype\": \"string\",\n        \"num_unique_values\": 2,\n        \"samples\": [\n          442,\n          \"float64\"\n        ],\n        \"semantic_type\": \"\",\n        \"description\": \"\"\n      }\n    },\n    {\n      \"column\": \"PTRATIO\",\n      \"properties\": {\n        \"dtype\": \"string\",\n        \"num_unique_values\": 2,\n        \"samples\": [\n          44,\n          \"float64\"\n        ],\n        \"semantic_type\": \"\",\n        \"description\": \"\"\n      }\n    },\n    {\n      \"column\": \"MEDV\",\n      \"properties\": {\n        \"dtype\": \"string\",\n        \"num_unique_values\": 2,\n        \"samples\": [\n          228,\n          \"float64\"\n        ],\n        \"semantic_type\": \"\",\n        \"description\": \"\"\n      }\n    }\n  ]\n}"
            }
          },
          "metadata": {},
          "execution_count": 295
        }
      ]
    },
    {
      "cell_type": "markdown",
      "source": [
        "### **Shape of the data**"
      ],
      "metadata": {
        "id": "ah-lAZAjrRKH"
      }
    },
    {
      "cell_type": "code",
      "source": [
        "data.shape"
      ],
      "metadata": {
        "colab": {
          "base_uri": "https://localhost:8080/",
          "height": 0
        },
        "id": "bL8Vl0n-rQz4",
        "outputId": "2e86b6c3-57fe-4920-987d-889ca82886b9"
      },
      "execution_count": 296,
      "outputs": [
        {
          "output_type": "execute_result",
          "data": {
            "text/plain": [
              "(489, 4)"
            ]
          },
          "metadata": {},
          "execution_count": 296
        }
      ]
    },
    {
      "cell_type": "markdown",
      "source": [
        "### **Information of this data**"
      ],
      "metadata": {
        "id": "REtfTDg1rYT3"
      }
    },
    {
      "cell_type": "code",
      "source": [
        "data.info()"
      ],
      "metadata": {
        "colab": {
          "base_uri": "https://localhost:8080/",
          "height": 0
        },
        "id": "zKZadsUfredN",
        "outputId": "224e5047-f8eb-454f-83ea-ec98bea3d94c"
      },
      "execution_count": 297,
      "outputs": [
        {
          "output_type": "stream",
          "name": "stdout",
          "text": [
            "<class 'pandas.core.frame.DataFrame'>\n",
            "RangeIndex: 489 entries, 0 to 488\n",
            "Data columns (total 4 columns):\n",
            " #   Column   Non-Null Count  Dtype  \n",
            "---  ------   --------------  -----  \n",
            " 0   RM       489 non-null    float64\n",
            " 1   LSTAT    489 non-null    float64\n",
            " 2   PTRATIO  489 non-null    float64\n",
            " 3   MEDV     489 non-null    float64\n",
            "dtypes: float64(4)\n",
            "memory usage: 15.4 KB\n"
          ]
        }
      ]
    },
    {
      "cell_type": "markdown",
      "source": [
        "### **Read the statistics of this data**"
      ],
      "metadata": {
        "id": "lcaCjFudrhbw"
      }
    },
    {
      "cell_type": "code",
      "source": [
        "data.describe()"
      ],
      "metadata": {
        "colab": {
          "base_uri": "https://localhost:8080/",
          "height": 300
        },
        "id": "lUUCl38jroEw",
        "outputId": "ce9c7b42-4bb8-43df-f437-095bdeff69d6"
      },
      "execution_count": 298,
      "outputs": [
        {
          "output_type": "execute_result",
          "data": {
            "text/plain": [
              "               RM       LSTAT     PTRATIO          MEDV\n",
              "count  489.000000  489.000000  489.000000  4.890000e+02\n",
              "mean     6.240288   12.939632   18.516564  4.543429e+05\n",
              "std      0.643650    7.081990    2.111268  1.653403e+05\n",
              "min      3.561000    1.980000   12.600000  1.050000e+05\n",
              "25%      5.880000    7.370000   17.400000  3.507000e+05\n",
              "50%      6.185000   11.690000   19.100000  4.389000e+05\n",
              "75%      6.575000   17.120000   20.200000  5.187000e+05\n",
              "max      8.398000   37.970000   22.000000  1.024800e+06"
            ],
            "text/html": [
              "\n",
              "  <div id=\"df-959b6d5f-82c3-4ed9-b88c-6296ba09b066\" class=\"colab-df-container\">\n",
              "    <div>\n",
              "<style scoped>\n",
              "    .dataframe tbody tr th:only-of-type {\n",
              "        vertical-align: middle;\n",
              "    }\n",
              "\n",
              "    .dataframe tbody tr th {\n",
              "        vertical-align: top;\n",
              "    }\n",
              "\n",
              "    .dataframe thead th {\n",
              "        text-align: right;\n",
              "    }\n",
              "</style>\n",
              "<table border=\"1\" class=\"dataframe\">\n",
              "  <thead>\n",
              "    <tr style=\"text-align: right;\">\n",
              "      <th></th>\n",
              "      <th>RM</th>\n",
              "      <th>LSTAT</th>\n",
              "      <th>PTRATIO</th>\n",
              "      <th>MEDV</th>\n",
              "    </tr>\n",
              "  </thead>\n",
              "  <tbody>\n",
              "    <tr>\n",
              "      <th>count</th>\n",
              "      <td>489.000000</td>\n",
              "      <td>489.000000</td>\n",
              "      <td>489.000000</td>\n",
              "      <td>4.890000e+02</td>\n",
              "    </tr>\n",
              "    <tr>\n",
              "      <th>mean</th>\n",
              "      <td>6.240288</td>\n",
              "      <td>12.939632</td>\n",
              "      <td>18.516564</td>\n",
              "      <td>4.543429e+05</td>\n",
              "    </tr>\n",
              "    <tr>\n",
              "      <th>std</th>\n",
              "      <td>0.643650</td>\n",
              "      <td>7.081990</td>\n",
              "      <td>2.111268</td>\n",
              "      <td>1.653403e+05</td>\n",
              "    </tr>\n",
              "    <tr>\n",
              "      <th>min</th>\n",
              "      <td>3.561000</td>\n",
              "      <td>1.980000</td>\n",
              "      <td>12.600000</td>\n",
              "      <td>1.050000e+05</td>\n",
              "    </tr>\n",
              "    <tr>\n",
              "      <th>25%</th>\n",
              "      <td>5.880000</td>\n",
              "      <td>7.370000</td>\n",
              "      <td>17.400000</td>\n",
              "      <td>3.507000e+05</td>\n",
              "    </tr>\n",
              "    <tr>\n",
              "      <th>50%</th>\n",
              "      <td>6.185000</td>\n",
              "      <td>11.690000</td>\n",
              "      <td>19.100000</td>\n",
              "      <td>4.389000e+05</td>\n",
              "    </tr>\n",
              "    <tr>\n",
              "      <th>75%</th>\n",
              "      <td>6.575000</td>\n",
              "      <td>17.120000</td>\n",
              "      <td>20.200000</td>\n",
              "      <td>5.187000e+05</td>\n",
              "    </tr>\n",
              "    <tr>\n",
              "      <th>max</th>\n",
              "      <td>8.398000</td>\n",
              "      <td>37.970000</td>\n",
              "      <td>22.000000</td>\n",
              "      <td>1.024800e+06</td>\n",
              "    </tr>\n",
              "  </tbody>\n",
              "</table>\n",
              "</div>\n",
              "    <div class=\"colab-df-buttons\">\n",
              "\n",
              "  <div class=\"colab-df-container\">\n",
              "    <button class=\"colab-df-convert\" onclick=\"convertToInteractive('df-959b6d5f-82c3-4ed9-b88c-6296ba09b066')\"\n",
              "            title=\"Convert this dataframe to an interactive table.\"\n",
              "            style=\"display:none;\">\n",
              "\n",
              "  <svg xmlns=\"http://www.w3.org/2000/svg\" height=\"24px\" viewBox=\"0 -960 960 960\">\n",
              "    <path d=\"M120-120v-720h720v720H120Zm60-500h600v-160H180v160Zm220 220h160v-160H400v160Zm0 220h160v-160H400v160ZM180-400h160v-160H180v160Zm440 0h160v-160H620v160ZM180-180h160v-160H180v160Zm440 0h160v-160H620v160Z\"/>\n",
              "  </svg>\n",
              "    </button>\n",
              "\n",
              "  <style>\n",
              "    .colab-df-container {\n",
              "      display:flex;\n",
              "      gap: 12px;\n",
              "    }\n",
              "\n",
              "    .colab-df-convert {\n",
              "      background-color: #E8F0FE;\n",
              "      border: none;\n",
              "      border-radius: 50%;\n",
              "      cursor: pointer;\n",
              "      display: none;\n",
              "      fill: #1967D2;\n",
              "      height: 32px;\n",
              "      padding: 0 0 0 0;\n",
              "      width: 32px;\n",
              "    }\n",
              "\n",
              "    .colab-df-convert:hover {\n",
              "      background-color: #E2EBFA;\n",
              "      box-shadow: 0px 1px 2px rgba(60, 64, 67, 0.3), 0px 1px 3px 1px rgba(60, 64, 67, 0.15);\n",
              "      fill: #174EA6;\n",
              "    }\n",
              "\n",
              "    .colab-df-buttons div {\n",
              "      margin-bottom: 4px;\n",
              "    }\n",
              "\n",
              "    [theme=dark] .colab-df-convert {\n",
              "      background-color: #3B4455;\n",
              "      fill: #D2E3FC;\n",
              "    }\n",
              "\n",
              "    [theme=dark] .colab-df-convert:hover {\n",
              "      background-color: #434B5C;\n",
              "      box-shadow: 0px 1px 3px 1px rgba(0, 0, 0, 0.15);\n",
              "      filter: drop-shadow(0px 1px 2px rgba(0, 0, 0, 0.3));\n",
              "      fill: #FFFFFF;\n",
              "    }\n",
              "  </style>\n",
              "\n",
              "    <script>\n",
              "      const buttonEl =\n",
              "        document.querySelector('#df-959b6d5f-82c3-4ed9-b88c-6296ba09b066 button.colab-df-convert');\n",
              "      buttonEl.style.display =\n",
              "        google.colab.kernel.accessAllowed ? 'block' : 'none';\n",
              "\n",
              "      async function convertToInteractive(key) {\n",
              "        const element = document.querySelector('#df-959b6d5f-82c3-4ed9-b88c-6296ba09b066');\n",
              "        const dataTable =\n",
              "          await google.colab.kernel.invokeFunction('convertToInteractive',\n",
              "                                                    [key], {});\n",
              "        if (!dataTable) return;\n",
              "\n",
              "        const docLinkHtml = 'Like what you see? Visit the ' +\n",
              "          '<a target=\"_blank\" href=https://colab.research.google.com/notebooks/data_table.ipynb>data table notebook</a>'\n",
              "          + ' to learn more about interactive tables.';\n",
              "        element.innerHTML = '';\n",
              "        dataTable['output_type'] = 'display_data';\n",
              "        await google.colab.output.renderOutput(dataTable, element);\n",
              "        const docLink = document.createElement('div');\n",
              "        docLink.innerHTML = docLinkHtml;\n",
              "        element.appendChild(docLink);\n",
              "      }\n",
              "    </script>\n",
              "  </div>\n",
              "\n",
              "\n",
              "<div id=\"df-73cfc811-621a-4641-9d88-2feee192d747\">\n",
              "  <button class=\"colab-df-quickchart\" onclick=\"quickchart('df-73cfc811-621a-4641-9d88-2feee192d747')\"\n",
              "            title=\"Suggest charts\"\n",
              "            style=\"display:none;\">\n",
              "\n",
              "<svg xmlns=\"http://www.w3.org/2000/svg\" height=\"24px\"viewBox=\"0 0 24 24\"\n",
              "     width=\"24px\">\n",
              "    <g>\n",
              "        <path d=\"M19 3H5c-1.1 0-2 .9-2 2v14c0 1.1.9 2 2 2h14c1.1 0 2-.9 2-2V5c0-1.1-.9-2-2-2zM9 17H7v-7h2v7zm4 0h-2V7h2v10zm4 0h-2v-4h2v4z\"/>\n",
              "    </g>\n",
              "</svg>\n",
              "  </button>\n",
              "\n",
              "<style>\n",
              "  .colab-df-quickchart {\n",
              "      --bg-color: #E8F0FE;\n",
              "      --fill-color: #1967D2;\n",
              "      --hover-bg-color: #E2EBFA;\n",
              "      --hover-fill-color: #174EA6;\n",
              "      --disabled-fill-color: #AAA;\n",
              "      --disabled-bg-color: #DDD;\n",
              "  }\n",
              "\n",
              "  [theme=dark] .colab-df-quickchart {\n",
              "      --bg-color: #3B4455;\n",
              "      --fill-color: #D2E3FC;\n",
              "      --hover-bg-color: #434B5C;\n",
              "      --hover-fill-color: #FFFFFF;\n",
              "      --disabled-bg-color: #3B4455;\n",
              "      --disabled-fill-color: #666;\n",
              "  }\n",
              "\n",
              "  .colab-df-quickchart {\n",
              "    background-color: var(--bg-color);\n",
              "    border: none;\n",
              "    border-radius: 50%;\n",
              "    cursor: pointer;\n",
              "    display: none;\n",
              "    fill: var(--fill-color);\n",
              "    height: 32px;\n",
              "    padding: 0;\n",
              "    width: 32px;\n",
              "  }\n",
              "\n",
              "  .colab-df-quickchart:hover {\n",
              "    background-color: var(--hover-bg-color);\n",
              "    box-shadow: 0 1px 2px rgba(60, 64, 67, 0.3), 0 1px 3px 1px rgba(60, 64, 67, 0.15);\n",
              "    fill: var(--button-hover-fill-color);\n",
              "  }\n",
              "\n",
              "  .colab-df-quickchart-complete:disabled,\n",
              "  .colab-df-quickchart-complete:disabled:hover {\n",
              "    background-color: var(--disabled-bg-color);\n",
              "    fill: var(--disabled-fill-color);\n",
              "    box-shadow: none;\n",
              "  }\n",
              "\n",
              "  .colab-df-spinner {\n",
              "    border: 2px solid var(--fill-color);\n",
              "    border-color: transparent;\n",
              "    border-bottom-color: var(--fill-color);\n",
              "    animation:\n",
              "      spin 1s steps(1) infinite;\n",
              "  }\n",
              "\n",
              "  @keyframes spin {\n",
              "    0% {\n",
              "      border-color: transparent;\n",
              "      border-bottom-color: var(--fill-color);\n",
              "      border-left-color: var(--fill-color);\n",
              "    }\n",
              "    20% {\n",
              "      border-color: transparent;\n",
              "      border-left-color: var(--fill-color);\n",
              "      border-top-color: var(--fill-color);\n",
              "    }\n",
              "    30% {\n",
              "      border-color: transparent;\n",
              "      border-left-color: var(--fill-color);\n",
              "      border-top-color: var(--fill-color);\n",
              "      border-right-color: var(--fill-color);\n",
              "    }\n",
              "    40% {\n",
              "      border-color: transparent;\n",
              "      border-right-color: var(--fill-color);\n",
              "      border-top-color: var(--fill-color);\n",
              "    }\n",
              "    60% {\n",
              "      border-color: transparent;\n",
              "      border-right-color: var(--fill-color);\n",
              "    }\n",
              "    80% {\n",
              "      border-color: transparent;\n",
              "      border-right-color: var(--fill-color);\n",
              "      border-bottom-color: var(--fill-color);\n",
              "    }\n",
              "    90% {\n",
              "      border-color: transparent;\n",
              "      border-bottom-color: var(--fill-color);\n",
              "    }\n",
              "  }\n",
              "</style>\n",
              "\n",
              "  <script>\n",
              "    async function quickchart(key) {\n",
              "      const quickchartButtonEl =\n",
              "        document.querySelector('#' + key + ' button');\n",
              "      quickchartButtonEl.disabled = true;  // To prevent multiple clicks.\n",
              "      quickchartButtonEl.classList.add('colab-df-spinner');\n",
              "      try {\n",
              "        const charts = await google.colab.kernel.invokeFunction(\n",
              "            'suggestCharts', [key], {});\n",
              "      } catch (error) {\n",
              "        console.error('Error during call to suggestCharts:', error);\n",
              "      }\n",
              "      quickchartButtonEl.classList.remove('colab-df-spinner');\n",
              "      quickchartButtonEl.classList.add('colab-df-quickchart-complete');\n",
              "    }\n",
              "    (() => {\n",
              "      let quickchartButtonEl =\n",
              "        document.querySelector('#df-73cfc811-621a-4641-9d88-2feee192d747 button');\n",
              "      quickchartButtonEl.style.display =\n",
              "        google.colab.kernel.accessAllowed ? 'block' : 'none';\n",
              "    })();\n",
              "  </script>\n",
              "</div>\n",
              "\n",
              "    </div>\n",
              "  </div>\n"
            ],
            "application/vnd.google.colaboratory.intrinsic+json": {
              "type": "dataframe",
              "summary": "{\n  \"name\": \"data\",\n  \"rows\": 8,\n  \"fields\": [\n    {\n      \"column\": \"RM\",\n      \"properties\": {\n        \"dtype\": \"number\",\n        \"std\": 171.01026967657967,\n        \"min\": 0.6436497627572431,\n        \"max\": 489.0,\n        \"num_unique_values\": 8,\n        \"samples\": [\n          6.240288343558283,\n          6.185,\n          489.0\n        ],\n        \"semantic_type\": \"\",\n        \"description\": \"\"\n      }\n    },\n    {\n      \"column\": \"LSTAT\",\n      \"properties\": {\n        \"dtype\": \"number\",\n        \"std\": 168.38221606435016,\n        \"min\": 1.98,\n        \"max\": 489.0,\n        \"num_unique_values\": 8,\n        \"samples\": [\n          12.93963190184049,\n          11.69,\n          489.0\n        ],\n        \"semantic_type\": \"\",\n        \"description\": \"\"\n      }\n    },\n    {\n      \"column\": \"PTRATIO\",\n      \"properties\": {\n        \"dtype\": \"number\",\n        \"std\": 167.35224110126134,\n        \"min\": 2.1112675026309873,\n        \"max\": 489.0,\n        \"num_unique_values\": 8,\n        \"samples\": [\n          18.51656441717791,\n          19.1,\n          489.0\n        ],\n        \"semantic_type\": \"\",\n        \"description\": \"\"\n      }\n    },\n    {\n      \"column\": \"MEDV\",\n      \"properties\": {\n        \"dtype\": \"number\",\n        \"std\": 318601.84841506614,\n        \"min\": 489.0,\n        \"max\": 1024800.0,\n        \"num_unique_values\": 8,\n        \"samples\": [\n          454342.9447852761,\n          438900.0,\n          489.0\n        ],\n        \"semantic_type\": \"\",\n        \"description\": \"\"\n      }\n    }\n  ]\n}"
            }
          },
          "metadata": {},
          "execution_count": 298
        }
      ]
    },
    {
      "cell_type": "markdown",
      "source": [
        "### **Read the statistic of the MEDV feature**"
      ],
      "metadata": {
        "id": "U78W9UNTrorS"
      }
    },
    {
      "cell_type": "code",
      "source": [
        "data['MEDV'].describe()"
      ],
      "metadata": {
        "colab": {
          "base_uri": "https://localhost:8080/",
          "height": 335
        },
        "id": "EOaChC94rsY3",
        "outputId": "6dd83653-b119-44cc-f361-13f5d7207669"
      },
      "execution_count": 299,
      "outputs": [
        {
          "output_type": "execute_result",
          "data": {
            "text/plain": [
              "count    4.890000e+02\n",
              "mean     4.543429e+05\n",
              "std      1.653403e+05\n",
              "min      1.050000e+05\n",
              "25%      3.507000e+05\n",
              "50%      4.389000e+05\n",
              "75%      5.187000e+05\n",
              "max      1.024800e+06\n",
              "Name: MEDV, dtype: float64"
            ],
            "text/html": [
              "<div>\n",
              "<style scoped>\n",
              "    .dataframe tbody tr th:only-of-type {\n",
              "        vertical-align: middle;\n",
              "    }\n",
              "\n",
              "    .dataframe tbody tr th {\n",
              "        vertical-align: top;\n",
              "    }\n",
              "\n",
              "    .dataframe thead th {\n",
              "        text-align: right;\n",
              "    }\n",
              "</style>\n",
              "<table border=\"1\" class=\"dataframe\">\n",
              "  <thead>\n",
              "    <tr style=\"text-align: right;\">\n",
              "      <th></th>\n",
              "      <th>MEDV</th>\n",
              "    </tr>\n",
              "  </thead>\n",
              "  <tbody>\n",
              "    <tr>\n",
              "      <th>count</th>\n",
              "      <td>4.890000e+02</td>\n",
              "    </tr>\n",
              "    <tr>\n",
              "      <th>mean</th>\n",
              "      <td>4.543429e+05</td>\n",
              "    </tr>\n",
              "    <tr>\n",
              "      <th>std</th>\n",
              "      <td>1.653403e+05</td>\n",
              "    </tr>\n",
              "    <tr>\n",
              "      <th>min</th>\n",
              "      <td>1.050000e+05</td>\n",
              "    </tr>\n",
              "    <tr>\n",
              "      <th>25%</th>\n",
              "      <td>3.507000e+05</td>\n",
              "    </tr>\n",
              "    <tr>\n",
              "      <th>50%</th>\n",
              "      <td>4.389000e+05</td>\n",
              "    </tr>\n",
              "    <tr>\n",
              "      <th>75%</th>\n",
              "      <td>5.187000e+05</td>\n",
              "    </tr>\n",
              "    <tr>\n",
              "      <th>max</th>\n",
              "      <td>1.024800e+06</td>\n",
              "    </tr>\n",
              "  </tbody>\n",
              "</table>\n",
              "</div><br><label><b>dtype:</b> float64</label>"
            ]
          },
          "metadata": {},
          "execution_count": 299
        }
      ]
    },
    {
      "cell_type": "markdown",
      "source": [
        "### **Check for Null Values**"
      ],
      "metadata": {
        "id": "16NAbR3irwnS"
      }
    },
    {
      "cell_type": "code",
      "source": [
        "null = data.isnull().sum()\n",
        "ratio = null / data.shape[0]\n",
        "pd.DataFrame({\"Null_sum\": null, \"Ratio\": ratio}).T"
      ],
      "metadata": {
        "colab": {
          "base_uri": "https://localhost:8080/",
          "height": 112
        },
        "id": "OsBCGobVr0Og",
        "outputId": "945d7e74-e3ef-455f-cc52-a11ff544cb62"
      },
      "execution_count": 300,
      "outputs": [
        {
          "output_type": "execute_result",
          "data": {
            "text/plain": [
              "           RM  LSTAT  PTRATIO  MEDV\n",
              "Null_sum  0.0    0.0      0.0   0.0\n",
              "Ratio     0.0    0.0      0.0   0.0"
            ],
            "text/html": [
              "\n",
              "  <div id=\"df-b0ed6a92-3c1e-4d90-8daa-cade1fb7baf7\" class=\"colab-df-container\">\n",
              "    <div>\n",
              "<style scoped>\n",
              "    .dataframe tbody tr th:only-of-type {\n",
              "        vertical-align: middle;\n",
              "    }\n",
              "\n",
              "    .dataframe tbody tr th {\n",
              "        vertical-align: top;\n",
              "    }\n",
              "\n",
              "    .dataframe thead th {\n",
              "        text-align: right;\n",
              "    }\n",
              "</style>\n",
              "<table border=\"1\" class=\"dataframe\">\n",
              "  <thead>\n",
              "    <tr style=\"text-align: right;\">\n",
              "      <th></th>\n",
              "      <th>RM</th>\n",
              "      <th>LSTAT</th>\n",
              "      <th>PTRATIO</th>\n",
              "      <th>MEDV</th>\n",
              "    </tr>\n",
              "  </thead>\n",
              "  <tbody>\n",
              "    <tr>\n",
              "      <th>Null_sum</th>\n",
              "      <td>0.0</td>\n",
              "      <td>0.0</td>\n",
              "      <td>0.0</td>\n",
              "      <td>0.0</td>\n",
              "    </tr>\n",
              "    <tr>\n",
              "      <th>Ratio</th>\n",
              "      <td>0.0</td>\n",
              "      <td>0.0</td>\n",
              "      <td>0.0</td>\n",
              "      <td>0.0</td>\n",
              "    </tr>\n",
              "  </tbody>\n",
              "</table>\n",
              "</div>\n",
              "    <div class=\"colab-df-buttons\">\n",
              "\n",
              "  <div class=\"colab-df-container\">\n",
              "    <button class=\"colab-df-convert\" onclick=\"convertToInteractive('df-b0ed6a92-3c1e-4d90-8daa-cade1fb7baf7')\"\n",
              "            title=\"Convert this dataframe to an interactive table.\"\n",
              "            style=\"display:none;\">\n",
              "\n",
              "  <svg xmlns=\"http://www.w3.org/2000/svg\" height=\"24px\" viewBox=\"0 -960 960 960\">\n",
              "    <path d=\"M120-120v-720h720v720H120Zm60-500h600v-160H180v160Zm220 220h160v-160H400v160Zm0 220h160v-160H400v160ZM180-400h160v-160H180v160Zm440 0h160v-160H620v160ZM180-180h160v-160H180v160Zm440 0h160v-160H620v160Z\"/>\n",
              "  </svg>\n",
              "    </button>\n",
              "\n",
              "  <style>\n",
              "    .colab-df-container {\n",
              "      display:flex;\n",
              "      gap: 12px;\n",
              "    }\n",
              "\n",
              "    .colab-df-convert {\n",
              "      background-color: #E8F0FE;\n",
              "      border: none;\n",
              "      border-radius: 50%;\n",
              "      cursor: pointer;\n",
              "      display: none;\n",
              "      fill: #1967D2;\n",
              "      height: 32px;\n",
              "      padding: 0 0 0 0;\n",
              "      width: 32px;\n",
              "    }\n",
              "\n",
              "    .colab-df-convert:hover {\n",
              "      background-color: #E2EBFA;\n",
              "      box-shadow: 0px 1px 2px rgba(60, 64, 67, 0.3), 0px 1px 3px 1px rgba(60, 64, 67, 0.15);\n",
              "      fill: #174EA6;\n",
              "    }\n",
              "\n",
              "    .colab-df-buttons div {\n",
              "      margin-bottom: 4px;\n",
              "    }\n",
              "\n",
              "    [theme=dark] .colab-df-convert {\n",
              "      background-color: #3B4455;\n",
              "      fill: #D2E3FC;\n",
              "    }\n",
              "\n",
              "    [theme=dark] .colab-df-convert:hover {\n",
              "      background-color: #434B5C;\n",
              "      box-shadow: 0px 1px 3px 1px rgba(0, 0, 0, 0.15);\n",
              "      filter: drop-shadow(0px 1px 2px rgba(0, 0, 0, 0.3));\n",
              "      fill: #FFFFFF;\n",
              "    }\n",
              "  </style>\n",
              "\n",
              "    <script>\n",
              "      const buttonEl =\n",
              "        document.querySelector('#df-b0ed6a92-3c1e-4d90-8daa-cade1fb7baf7 button.colab-df-convert');\n",
              "      buttonEl.style.display =\n",
              "        google.colab.kernel.accessAllowed ? 'block' : 'none';\n",
              "\n",
              "      async function convertToInteractive(key) {\n",
              "        const element = document.querySelector('#df-b0ed6a92-3c1e-4d90-8daa-cade1fb7baf7');\n",
              "        const dataTable =\n",
              "          await google.colab.kernel.invokeFunction('convertToInteractive',\n",
              "                                                    [key], {});\n",
              "        if (!dataTable) return;\n",
              "\n",
              "        const docLinkHtml = 'Like what you see? Visit the ' +\n",
              "          '<a target=\"_blank\" href=https://colab.research.google.com/notebooks/data_table.ipynb>data table notebook</a>'\n",
              "          + ' to learn more about interactive tables.';\n",
              "        element.innerHTML = '';\n",
              "        dataTable['output_type'] = 'display_data';\n",
              "        await google.colab.output.renderOutput(dataTable, element);\n",
              "        const docLink = document.createElement('div');\n",
              "        docLink.innerHTML = docLinkHtml;\n",
              "        element.appendChild(docLink);\n",
              "      }\n",
              "    </script>\n",
              "  </div>\n",
              "\n",
              "\n",
              "<div id=\"df-208a3054-097a-463a-8a8f-91ca70f99b28\">\n",
              "  <button class=\"colab-df-quickchart\" onclick=\"quickchart('df-208a3054-097a-463a-8a8f-91ca70f99b28')\"\n",
              "            title=\"Suggest charts\"\n",
              "            style=\"display:none;\">\n",
              "\n",
              "<svg xmlns=\"http://www.w3.org/2000/svg\" height=\"24px\"viewBox=\"0 0 24 24\"\n",
              "     width=\"24px\">\n",
              "    <g>\n",
              "        <path d=\"M19 3H5c-1.1 0-2 .9-2 2v14c0 1.1.9 2 2 2h14c1.1 0 2-.9 2-2V5c0-1.1-.9-2-2-2zM9 17H7v-7h2v7zm4 0h-2V7h2v10zm4 0h-2v-4h2v4z\"/>\n",
              "    </g>\n",
              "</svg>\n",
              "  </button>\n",
              "\n",
              "<style>\n",
              "  .colab-df-quickchart {\n",
              "      --bg-color: #E8F0FE;\n",
              "      --fill-color: #1967D2;\n",
              "      --hover-bg-color: #E2EBFA;\n",
              "      --hover-fill-color: #174EA6;\n",
              "      --disabled-fill-color: #AAA;\n",
              "      --disabled-bg-color: #DDD;\n",
              "  }\n",
              "\n",
              "  [theme=dark] .colab-df-quickchart {\n",
              "      --bg-color: #3B4455;\n",
              "      --fill-color: #D2E3FC;\n",
              "      --hover-bg-color: #434B5C;\n",
              "      --hover-fill-color: #FFFFFF;\n",
              "      --disabled-bg-color: #3B4455;\n",
              "      --disabled-fill-color: #666;\n",
              "  }\n",
              "\n",
              "  .colab-df-quickchart {\n",
              "    background-color: var(--bg-color);\n",
              "    border: none;\n",
              "    border-radius: 50%;\n",
              "    cursor: pointer;\n",
              "    display: none;\n",
              "    fill: var(--fill-color);\n",
              "    height: 32px;\n",
              "    padding: 0;\n",
              "    width: 32px;\n",
              "  }\n",
              "\n",
              "  .colab-df-quickchart:hover {\n",
              "    background-color: var(--hover-bg-color);\n",
              "    box-shadow: 0 1px 2px rgba(60, 64, 67, 0.3), 0 1px 3px 1px rgba(60, 64, 67, 0.15);\n",
              "    fill: var(--button-hover-fill-color);\n",
              "  }\n",
              "\n",
              "  .colab-df-quickchart-complete:disabled,\n",
              "  .colab-df-quickchart-complete:disabled:hover {\n",
              "    background-color: var(--disabled-bg-color);\n",
              "    fill: var(--disabled-fill-color);\n",
              "    box-shadow: none;\n",
              "  }\n",
              "\n",
              "  .colab-df-spinner {\n",
              "    border: 2px solid var(--fill-color);\n",
              "    border-color: transparent;\n",
              "    border-bottom-color: var(--fill-color);\n",
              "    animation:\n",
              "      spin 1s steps(1) infinite;\n",
              "  }\n",
              "\n",
              "  @keyframes spin {\n",
              "    0% {\n",
              "      border-color: transparent;\n",
              "      border-bottom-color: var(--fill-color);\n",
              "      border-left-color: var(--fill-color);\n",
              "    }\n",
              "    20% {\n",
              "      border-color: transparent;\n",
              "      border-left-color: var(--fill-color);\n",
              "      border-top-color: var(--fill-color);\n",
              "    }\n",
              "    30% {\n",
              "      border-color: transparent;\n",
              "      border-left-color: var(--fill-color);\n",
              "      border-top-color: var(--fill-color);\n",
              "      border-right-color: var(--fill-color);\n",
              "    }\n",
              "    40% {\n",
              "      border-color: transparent;\n",
              "      border-right-color: var(--fill-color);\n",
              "      border-top-color: var(--fill-color);\n",
              "    }\n",
              "    60% {\n",
              "      border-color: transparent;\n",
              "      border-right-color: var(--fill-color);\n",
              "    }\n",
              "    80% {\n",
              "      border-color: transparent;\n",
              "      border-right-color: var(--fill-color);\n",
              "      border-bottom-color: var(--fill-color);\n",
              "    }\n",
              "    90% {\n",
              "      border-color: transparent;\n",
              "      border-bottom-color: var(--fill-color);\n",
              "    }\n",
              "  }\n",
              "</style>\n",
              "\n",
              "  <script>\n",
              "    async function quickchart(key) {\n",
              "      const quickchartButtonEl =\n",
              "        document.querySelector('#' + key + ' button');\n",
              "      quickchartButtonEl.disabled = true;  // To prevent multiple clicks.\n",
              "      quickchartButtonEl.classList.add('colab-df-spinner');\n",
              "      try {\n",
              "        const charts = await google.colab.kernel.invokeFunction(\n",
              "            'suggestCharts', [key], {});\n",
              "      } catch (error) {\n",
              "        console.error('Error during call to suggestCharts:', error);\n",
              "      }\n",
              "      quickchartButtonEl.classList.remove('colab-df-spinner');\n",
              "      quickchartButtonEl.classList.add('colab-df-quickchart-complete');\n",
              "    }\n",
              "    (() => {\n",
              "      let quickchartButtonEl =\n",
              "        document.querySelector('#df-208a3054-097a-463a-8a8f-91ca70f99b28 button');\n",
              "      quickchartButtonEl.style.display =\n",
              "        google.colab.kernel.accessAllowed ? 'block' : 'none';\n",
              "    })();\n",
              "  </script>\n",
              "</div>\n",
              "\n",
              "    </div>\n",
              "  </div>\n"
            ],
            "application/vnd.google.colaboratory.intrinsic+json": {
              "type": "dataframe",
              "summary": "{\n  \"name\": \"pd\",\n  \"rows\": 2,\n  \"fields\": [\n    {\n      \"column\": \"RM\",\n      \"properties\": {\n        \"dtype\": \"number\",\n        \"std\": 0.0,\n        \"min\": 0.0,\n        \"max\": 0.0,\n        \"num_unique_values\": 1,\n        \"samples\": [\n          0.0\n        ],\n        \"semantic_type\": \"\",\n        \"description\": \"\"\n      }\n    },\n    {\n      \"column\": \"LSTAT\",\n      \"properties\": {\n        \"dtype\": \"number\",\n        \"std\": 0.0,\n        \"min\": 0.0,\n        \"max\": 0.0,\n        \"num_unique_values\": 1,\n        \"samples\": [\n          0.0\n        ],\n        \"semantic_type\": \"\",\n        \"description\": \"\"\n      }\n    },\n    {\n      \"column\": \"PTRATIO\",\n      \"properties\": {\n        \"dtype\": \"number\",\n        \"std\": 0.0,\n        \"min\": 0.0,\n        \"max\": 0.0,\n        \"num_unique_values\": 1,\n        \"samples\": [\n          0.0\n        ],\n        \"semantic_type\": \"\",\n        \"description\": \"\"\n      }\n    },\n    {\n      \"column\": \"MEDV\",\n      \"properties\": {\n        \"dtype\": \"number\",\n        \"std\": 0.0,\n        \"min\": 0.0,\n        \"max\": 0.0,\n        \"num_unique_values\": 1,\n        \"samples\": [\n          0.0\n        ],\n        \"semantic_type\": \"\",\n        \"description\": \"\"\n      }\n    }\n  ]\n}"
            }
          },
          "metadata": {},
          "execution_count": 300
        }
      ]
    },
    {
      "cell_type": "markdown",
      "source": [
        "### **Check for Duplicates**"
      ],
      "metadata": {
        "id": "y4W2RpHor2ZO"
      }
    },
    {
      "cell_type": "code",
      "source": [
        "data.duplicated().sum()"
      ],
      "metadata": {
        "colab": {
          "base_uri": "https://localhost:8080/",
          "height": 0
        },
        "id": "ybXyk5Ppr4_1",
        "outputId": "3d235be8-29e3-4c9b-9227-2d08e1f06063"
      },
      "execution_count": 301,
      "outputs": [
        {
          "output_type": "execute_result",
          "data": {
            "text/plain": [
              "np.int64(0)"
            ]
          },
          "metadata": {},
          "execution_count": 301
        }
      ]
    },
    {
      "cell_type": "markdown",
      "source": [
        "### **Check for Outliers**"
      ],
      "metadata": {
        "id": "PB4AdhEJsDJz"
      }
    },
    {
      "cell_type": "code",
      "source": [
        "num_cols = data.select_dtypes(\"number\").columns\n",
        "num_plots = len(num_cols)\n",
        "num_rows = (num_plots + 1) // 2     # Calculate the number of rows needed\n",
        "plt.figure(figsize=(18, 4 * num_rows))     # Adjust figure height based on rows\n",
        "for i, col in enumerate(num_cols):\n",
        "    plt.subplot(num_rows, 4, i + 1)\n",
        "    sns.boxplot(data[col], orient=\"h\")\n",
        "    plt.title(f\"{col} boxplot\")"
      ],
      "metadata": {
        "colab": {
          "base_uri": "https://localhost:8080/",
          "height": 237
        },
        "id": "pMzgg7l_sHn_",
        "outputId": "ce47d095-c47f-471c-da67-e3802eafda0e"
      },
      "execution_count": 302,
      "outputs": [
        {
          "output_type": "display_data",
          "data": {
            "text/plain": [
              "<Figure size 1800x800 with 4 Axes>"
            ],
            "image/png": "[encoded data removed]"
          },
          "metadata": {}
        }
      ]
    },
    {
      "cell_type": "markdown",
      "source": [
        "### - **Remove Outliers**"
      ],
      "metadata": {
        "id": "ImcZ4cMnsK9n"
      }
    },
    {
      "cell_type": "code",
      "source": [
        "for col in num_cols:\n",
        "    Q1 = data[col].quantile(.25)\n",
        "    Q3 = data[col].quantile(.75)\n",
        "    IQR = Q3 - Q1\n",
        "    Lower_Fence = Q1 - 1.5 * IQR\n",
        "    Upper_Fence = Q3 + 1.5 * IQR\n",
        "\n",
        "    # Instead of using replace with inplace=True, use loc for direct assignment\n",
        "    data.loc[data[col] < Lower_Fence, col] = Lower_Fence\n",
        "    data.loc[data[col] > Upper_Fence, col] = Upper_Fence"
      ],
      "metadata": {
        "id": "tqi0QSLesQMh"
      },
      "execution_count": 303,
      "outputs": []
    },
    {
      "cell_type": "markdown",
      "source": [
        "### **Make Sure Outliers are removed**"
      ],
      "metadata": {
        "id": "oaZ6KW14sTbu"
      }
    },
    {
      "cell_type": "code",
      "source": [
        "num_cols = data.select_dtypes(\"number\").columns\n",
        "num_plots = len(num_cols)\n",
        "num_rows = (num_plots + 1) // 2     # Calculate the number of rows needed\n",
        "plt.figure(figsize=(18, 4 * num_rows))     # Adjust figure height based on rows\n",
        "for i, col in enumerate(num_cols):\n",
        "    plt.subplot(num_rows, 4, i + 1)\n",
        "    sns.boxplot(data[col], orient=\"h\")\n",
        "    plt.title(f\"{col} boxplot\")"
      ],
      "metadata": {
        "colab": {
          "base_uri": "https://localhost:8080/",
          "height": 233
        },
        "id": "7ptzJzLzsWrv",
        "outputId": "74bab726-78d5-4a2a-ee9a-98e1b39ad0e1"
      },
      "execution_count": 304,
      "outputs": [
        {
          "output_type": "display_data",
          "data": {
            "text/plain": [
              "<Figure size 1800x800 with 4 Axes>"
            ],
            "image/png": "[encoded data removed]"
          },
          "metadata": {}
        }
      ]
    },
    {
      "cell_type": "markdown",
      "source": [
        "###  **Visualization**\n"
      ],
      "metadata": {
        "id": "lzzkHlonsY52"
      }
    },
    {
      "cell_type": "markdown",
      "source": [
        "- **Numerical Data Distribution Graphs**"
      ],
      "metadata": {
        "id": "0FCv80sgtLTl"
      }
    },
    {
      "cell_type": "code",
      "source": [
        "# Histogram\n",
        "num_cols = data.select_dtypes(\"number\").columns\n",
        "plt.figure(figsize=(15, 4))\n",
        "for i, col in enumerate(num_cols):\n",
        "    plt.subplot(1, 4, i+1)\n",
        "    plt.hist(data[col], edgecolor=\"black\")\n",
        "    plt.title(f\"{col} Distribution Graph\")\n",
        "plt.show()"
      ],
      "metadata": {
        "colab": {
          "base_uri": "https://localhost:8080/",
          "height": 275
        },
        "id": "mtgThhzOtC4w",
        "outputId": "0f82e200-0278-4983-96c3-364ea6f2ee10"
      },
      "execution_count": 305,
      "outputs": [
        {
          "output_type": "display_data",
          "data": {
            "text/plain": [
              "<Figure size 1500x400 with 4 Axes>"
            ],
            "image/png": "[encoded data removed]"
          },
          "metadata": {}
        }
      ]
    },
    {
      "cell_type": "code",
      "source": [
        "# Heat map\n",
        "corr = data.corr()\n",
        "plt.figure(figsize=(10,10))\n",
        "sns.heatmap(corr, annot=True)\n",
        "plt.show()"
      ],
      "metadata": {
        "colab": {
          "base_uri": "https://localhost:8080/",
          "height": 836
        },
        "id": "ZSFFk_Z0ud3i",
        "outputId": "ef482c4b-a6ed-4929-b3a0-bcdafb485071"
      },
      "execution_count": 306,
      "outputs": [
        {
          "output_type": "display_data",
          "data": {
            "text/plain": [
              "<Figure size 1000x1000 with 2 Axes>"
            ],
            "image/png": "[encoded data removed]"
          },
          "metadata": {}
        }
      ]
    },
    {
      "cell_type": "markdown",
      "source": [
        "## **Data Exploration**"
      ],
      "metadata": {
        "id": "b_jpctQ8Dtpn"
      }
    },
    {
      "cell_type": "markdown",
      "source": [
        "### **- Implementation: Calculate Statistics**"
      ],
      "metadata": {
        "id": "T3OHmseVEEO-"
      }
    },
    {
      "cell_type": "code",
      "source": [
        "prices = data['MEDV']\n",
        "features = data.drop('MEDV', axis = 1)\n",
        "# print the shape of the data\n",
        "print('Boston housing dataset has {0} data points with {1} variables each.'.format(*data.shape))"
      ],
      "metadata": {
        "colab": {
          "base_uri": "https://localhost:8080/",
          "height": 0
        },
        "id": "7MbJJEctDlZx",
        "outputId": "999b273f-d9fc-44ba-c134-29789d6ac88c"
      },
      "execution_count": 307,
      "outputs": [
        {
          "output_type": "stream",
          "name": "stdout",
          "text": [
            "Boston housing dataset has 489 data points with 4 variables each.\n"
          ]
        }
      ]
    },
    {
      "cell_type": "code",
      "source": [
        "# TODO: Minimum price of the data\n",
        "minimum_price = np.min(prices)\n",
        "\n",
        "# TODO: Maximum price of the data\n",
        "maximum_price = np.max(prices)\n",
        "\n",
        "# TODO: Mean price of the data\n",
        "mean_price = np.mean(prices)\n",
        "\n",
        "# TODO: Median price of the data\n",
        "median_price = np.median(prices)\n",
        "\n",
        "# TODO: Standard deviation of prices of the data\n",
        "std_price = np.std(prices)\n",
        "\n",
        "# Show the calculated statistics\n",
        "print(\"Statistics for Boston housing dataset:\\n\")\n",
        "print(\"Minimum price: ${:,.2f}\".format(minimum_price))\n",
        "print(\"Maximum price: ${:,.2f}\".format(maximum_price))\n",
        "print(\"Mean price: ${:,.2f}\".format(mean_price))\n",
        "print(\"Median price ${:,.2f}\".format(median_price))\n",
        "print(\"Standard deviation of prices: ${:,.2f}\".format(std_price))"
      ],
      "metadata": {
        "colab": {
          "base_uri": "https://localhost:8080/",
          "height": 0
        },
        "id": "x70De_l9DzNv",
        "outputId": "429fd51c-ead1-4b08-c99b-dd0a2a515f43"
      },
      "execution_count": 308,
      "outputs": [
        {
          "output_type": "stream",
          "name": "stdout",
          "text": [
            "Statistics for Boston housing dataset:\n",
            "\n",
            "Minimum price: $105,000.00\n",
            "Maximum price: $770,700.00\n",
            "Mean price: $448,798.77\n",
            "Median price $438,900.00\n",
            "Standard deviation of prices: $150,922.99\n"
          ]
        }
      ]
    },
    {
      "cell_type": "markdown",
      "source": [
        "### Question 1 - Feature Observation\n",
        "As a reminder, we are using three features from the Boston housing dataset: `'RM'`, `'LSTAT'`, and `'PTRATIO'`. For each data point (neighborhood):\n",
        "- `'RM'` is the average number of rooms among homes in the neighborhood.\n",
        "- `'LSTAT'` is the percentage of homeowners in the neighborhood considered \"lower class\" (working poor).\n",
        "- `'PTRATIO'` is the ratio of students to teachers in primary and secondary schools in the neighborhood.\n",
        "\n",
        "\n",
        "** Using your intuition, for each of the three features above, do you think that an increase in the value of that feature would lead to an **increase** in the value of `'MEDV'` or a **decrease** in the value of `'MEDV'`? Justify your answer for each.**\n"
      ],
      "metadata": {
        "id": "Y8nTjTceHZHr"
      }
    },
    {
      "cell_type": "markdown",
      "source": [
        "## **Answer:**\n",
        "* RM: Positive correlation with 'MEDV' (increase in RM leads to an increase in 'MEDV').\n",
        "* LSTAT: Negative correlation with 'MEDV' (increase in LSTAT leads to a decrease in 'MEDV').\n",
        "* PTRATIO: Negative correlation with 'MEDV' (increase in PTRATIO leads to a decrease in 'MEDV')."
      ],
      "metadata": {
        "id": "dUE8w8XqHcA2"
      }
    },
    {
      "cell_type": "markdown",
      "source": [
        "your answer will reflect your understand\n",
        "Hint: This problem can phrased using examples like below.\n"
      ],
      "metadata": {
        "id": "Vyn2kWEVJFj8"
      }
    },
    {
      "cell_type": "markdown",
      "source": [
        "## **question 1:**\n",
        "* Would you expect a home that has an 'RM' value(number of rooms) of 6 be worth more or less than a home that has an 'RM' value of 7?\n",
        "## **Answer :**\n",
        "* 'RM' value(number of rooms) of 6 be worth more than a home that has an 'RM' value of 7\n"
      ],
      "metadata": {
        "id": "jI1c6aSEJL_8"
      }
    },
    {
      "cell_type": "markdown",
      "source": [
        "## **Question 2:**\n",
        "* Would you expect a neighborhood that has an 'LSTAT' value(percent of lower class workers) of 15 have home prices be worth more or less than a neighborhood that has an 'LSTAT' value of 20?\n",
        "## **Answer :**\n",
        "* Neighborhood that has an 'LSTAT' value(percent of lower class workers) of 15% have home prices be worth more than a neighborhood that has an 'LSTAT' value of 20% ."
      ],
      "metadata": {
        "id": "lxDt2Z2qJ1D3"
      }
    },
    {
      "cell_type": "markdown",
      "source": [
        "## **Question 3:**\n",
        "* Would you expect a neighborhood that has an `'PTRATIO'` value(ratio of students to teachers) of 10 have home prices be worth more or less than a neighborhood that has an `'PTRATIO'` value of 15?\n",
        "## **Answer :**\n",
        "* Neighborhood that has an `'PTRATIO'` value(ratio of students to teachers) of 10 have home prices be worth more than a neighborhood that has an `'PTRATIO'` value of 15 ."
      ],
      "metadata": {
        "id": "CrGr_yN6LNjs"
      }
    },
    {
      "cell_type": "markdown",
      "source": [
        "## **Developing a Model**"
      ],
      "metadata": {
        "id": "OLb6KTVtMJ4y"
      }
    },
    {
      "cell_type": "markdown",
      "source": [
        "In this second section of the project, you will develop the tools and techniques necessary for a model to make a prediction. Being able to make accurate evaluations of each model's performance through the use of these tools and techniques helps to greatly reinforce the confidence in your predictions."
      ],
      "metadata": {
        "id": "808ff0O-NCYe"
      }
    },
    {
      "cell_type": "markdown",
      "source": [
        "## takecare for this part to focus for every stage"
      ],
      "metadata": {
        "id": "IORnVOQ2OhsR"
      }
    },
    {
      "cell_type": "markdown",
      "source": [
        "## **R2 Score**"
      ],
      "metadata": {
        "id": "oikhPfkPO4jK"
      }
    },
    {
      "cell_type": "markdown",
      "source": [
        "### **Implementation: Define a Performance Metric**\n",
        "* It is difficult to measure the quality of a given model without quantifying its performance over training and testing.\n",
        "* This is typically done using some type of performance metric, whether it is through calculating some type of error, the goodness of fit, or some other useful measurement.\n",
        "* For this project, you will be calculating the coefficient of determination, R2, to quantify your model's performance.\n",
        "* The coefficient of determination for a model is a useful statistic in regression analysis, as it often describes how \"good\" that model is at making predictions.\n",
        "******************************************"
      ],
      "metadata": {
        "id": "c5JmFkPsO_a2"
      }
    },
    {
      "cell_type": "markdown",
      "source": [
        "The values for R2 range from 0 to 1, which captures the percentage of squared correlation between the predicted and actual values of the target variable.\n",
        "***************************************\n",
        "\n",
        "A model with an R2 of 0 is no better than a model that always predicts the mean of the target variable, whereas a model with an R2 of 1 perfectly predicts the target variable.\n",
        "\n",
        "Any value between 0 and 1 indicates what percentage of the target variable, using this model, can be explained by the features. _A model can be given a negative R2 as well, which indicates that the model is arbitrarily worse than one that always predicts the mean of the target variable.\n",
        "****************************************************\n",
        "\n",
        "For the performance_metric function in the code cell below, you will need to implement the following:\n",
        "\n",
        "* Use r2_score from sklearn.metrics to perform a performance calculation between y_true and y_predict.\n",
        "* Assign the performance score to the score variable."
      ],
      "metadata": {
        "id": "l1fRd57aPRQ5"
      }
    },
    {
      "cell_type": "code",
      "source": [
        "# TODO: Import 'r2_score'\n",
        "from sklearn.metrics import r2_score\n",
        "\n",
        "def performance_metric(y_test, y_predict):\n",
        "    \"\"\" Calculates and returns the performance score between\n",
        "        test and predicted values based on the metric chosen. \"\"\"\n",
        "\n",
        "    # TODO: Calculate the performance score between 'y_test' and 'y_predict'\n",
        "    score = r2_score(y_test, y_predict)\n",
        "\n",
        "    # Return the score\n",
        "    return score\n"
      ],
      "metadata": {
        "id": "5WR5zlzbHWl_"
      },
      "execution_count": 309,
      "outputs": []
    },
    {
      "cell_type": "markdown",
      "source": [
        "## **Question 2 - Goodness of Fit**\n",
        "\n",
        "Assume that a dataset contains five data points and a model made the following predictions for the target variable:\n",
        "\n",
        "| True Value | Prediction |\n",
        "| :-------------: | :--------: |\n",
        "| 3.0 | 2.5 |\n",
        "| -0.5 | 0.0 |\n",
        "| 2.0 | 2.1 |\n",
        "| 7.0 | 7.8 |\n",
        "| 4.2 | 5.3 |\n",
        "\n",
        "Run the code cell below to use the performance_metric function and calculate this model's coefficient of determination."
      ],
      "metadata": {
        "id": "fUd2i7SfQY3M"
      }
    },
    {
      "cell_type": "code",
      "source": [
        "# Calculate the performance of this model\n",
        "score = performance_metric([3, -0.5, 2, 7, 4.2], [2.5, 0.0, 2.1, 7.8, 5.3])\n",
        "print (\"Model has a coefficient of determination, R^2, of {:.3f}.\".format(score))"
      ],
      "metadata": {
        "colab": {
          "base_uri": "https://localhost:8080/",
          "height": 0
        },
        "id": "pkCrp-FsQ5WX",
        "outputId": "cd963178-50b7-4216-887a-2d8916d07cbe"
      },
      "execution_count": 310,
      "outputs": [
        {
          "output_type": "stream",
          "name": "stdout",
          "text": [
            "Model has a coefficient of determination, R^2, of 0.923.\n"
          ]
        }
      ]
    },
    {
      "cell_type": "markdown",
      "source": [
        "## **Question :**\n",
        "## * **Would you consider this model to have successfully captured the variation of the target variable? , Why or why not?**\n",
        "\n",
        "\n",
        "** Hint: ** The R2 score is the proportion of the variance in the dependent variable that is predictable from the independent variable. In other words:\n",
        "\n",
        "* R2 score of 0 means that the dependent variable cannot be predicted from the independent variable.\n",
        "* R2 score of 1 means the dependent variable can be predicted from the independent variable.\n",
        "* R2 score between 0 and 1 indicates the extent to which the dependent variable is predictable.\n",
        "* An R2 score of 0.40 means that 40 percent of the variance in Y is predictable from X.\n",
        "\n",
        "## **Answer :**\n",
        "* Yes, I would consider this model to have successfully captured the variation of the target variable.\n",
        "* Because High R^2 Value: An R^2 value of 0.923 is considered very high. It suggests a strong correlation between the predicted values and the actual values of the target variable."
      ],
      "metadata": {
        "id": "XvnPumU5R_9r"
      }
    },
    {
      "cell_type": "markdown",
      "source": [
        "## **Implementation: Shuffle and Split Data**\n",
        "* Your next implementation requires that you take the Boston housing dataset and split the data into training and testing subsets.\n",
        "* Typically, the data is also shuffled into a random order when creating the training and testing subsets to remove any bias in the ordering of the dataset.\n",
        "***********************************\n",
        "\n",
        "For the code cell below, you will need to implement the following:\n",
        "\n",
        "* Use train_test_split from sklearn.cross_validation to shuffle and split the features and prices data into training and testing sets.\n",
        "   * Split the data into 80% training and 20% testing.\n",
        "   * Set the random_state for train_test_split to a value of your choice.\n",
        "   * This ensures results are consistent.\n",
        "* Assign the train and testing splits to X_train, X_test, y_train, and y_test."
      ],
      "metadata": {
        "id": "ex0aHnv-U7bq"
      }
    },
    {
      "cell_type": "code",
      "source": [
        "# TODO: Import 'train_test_split'\n",
        "from sklearn.model_selection import train_test_split\n",
        "\n",
        "# TODO: Shuffle and split the data into training and testing subsets\n",
        "X_train, X_test, y_train, y_test = train_test_split(features, prices, test_size=0.2, random_state=1)\n",
        "\n",
        "# Success\n",
        "print(\"Training and testing split was successful.\")"
      ],
      "metadata": {
        "colab": {
          "base_uri": "https://localhost:8080/",
          "height": 0
        },
        "id": "CQk0hMLYRQTv",
        "outputId": "dcadc514-0e09-4120-c339-82d5882b3961"
      },
      "execution_count": 311,
      "outputs": [
        {
          "output_type": "stream",
          "name": "stdout",
          "text": [
            "Training and testing split was successful.\n"
          ]
        }
      ]
    },
    {
      "cell_type": "markdown",
      "source": [
        "## **Question 3 - Training and Testing**\n",
        "### **What is the benefit to splitting a dataset into some ratio of training and testing subsets for a learning algorithm?**\n",
        "Hint: Think about how overfitting or underfitting is contingent upon how splits on data is done.\n",
        "## **Answer :**\n",
        "* Splitting the dataset helps to evaluate the model's ability to generalize to new data, preventing overfitting and underfitting, leading to a more robust and reliable model.\n",
        "\n",
        "### **Benefits:**\n",
        "\n",
        "* Evaluate Model Generalization: Testing on unseen data gives a realistic estimate of how well the model will perform on new data.\n",
        "* Prevent Overfitting: Avoids the model memorizing the training data instead of learning underlying patterns, leading to better performance on new data.\n",
        "* Avoid Underfitting: Helps identify if the model is too simple and needs to be more complex to capture the underlying patterns in the data.\n",
        "### Relationship to Overfitting and Underfitting:\n",
        "\n",
        "* Overfitting: Training on the entire dataset without a testing set can lead to overfitting, where the model performs well on training data but poorly on new data. Splitting helps detect and prevent this.\n",
        "* Underfitting: If the model is too simple, it may underfit, performing poorly on both training and testing sets. Splitting helps identify this so you can consider more complex models.\n",
        "\n",
        "For the Boston housing dataset: Splitting is crucial for accurately predicting housing prices for new data points, ensuring a reliable and robust model."
      ],
      "metadata": {
        "id": "G8fTn0AyYdDI"
      }
    },
    {
      "cell_type": "markdown",
      "source": [
        "### **Analyzing Model Performance**"
      ],
      "metadata": {
        "id": "_OpjbFRTc6hD"
      }
    },
    {
      "cell_type": "markdown",
      "source": [
        "In this third section of the project, you'll take a look at several models' learning and testing performances on various subsets of training data. Additionally, you'll investigate one particular algorithm with an increasing 'max_depth' parameter on the full training set to observe how model complexity affects performance. Graphing your model's performance based on varying criteria can be beneficial in the analysis process, such as visualizing behavior that may not have been apparent from the results alone."
      ],
      "metadata": {
        "id": "V4UmDRgic9G4"
      }
    },
    {
      "cell_type": "code",
      "source": [
        "# Kde Plot\n",
        "num_cols = data.select_dtypes(\"number\").columns\n",
        "plt.figure(figsize=(20, 5))\n",
        "for i, col in enumerate(num_cols):\n",
        "    plt.subplot(1, 4, i+1)\n",
        "    sns.kdeplot(data[col])\n",
        "    plt.title(f\"{col} Distribution Graph\")\n",
        "plt.show()"
      ],
      "metadata": {
        "colab": {
          "base_uri": "https://localhost:8080/",
          "height": 265
        },
        "id": "nA9znKx1dsIa",
        "outputId": "897601a2-3e45-4076-e127-b7c8f5cc4afe"
      },
      "execution_count": 312,
      "outputs": [
        {
          "output_type": "display_data",
          "data": {
            "text/plain": [
              "<Figure size 2000x500 with 4 Axes>"
            ],
            "image/png": "[encoded data removed]"
          },
          "metadata": {}
        }
      ]
    },
    {
      "cell_type": "markdown",
      "source": [
        "## **Learning Curves**\n",
        "The following code cell produces four graphs for a decision tree model with different maximum depths. Each graph visualizes the learning curves of the model for both training and testing as the size of the training set is increased. Note that the shaded region of a learning curve denotes the uncertainty of that curve (measured as the standard deviation). The model is scored on both the training and testing sets using R2, the coefficient of determination."
      ],
      "metadata": {
        "id": "Fzoij1G3gmAD"
      }
    },
    {
      "cell_type": "code",
      "source": [
        "import warnings\n",
        "from sklearn.model_selection import learning_curve, ShuffleSplit, train_test_split\n",
        "from sklearn.tree import DecisionTreeRegressor\n",
        "\n",
        "# Suppress matplotlib user warnings\n",
        "warnings.filterwarnings(\"ignore\", category=UserWarning, module=\"matplotlib\")\n",
        "\n",
        "# Display inline matplotlib plots with IPython\n",
        "from IPython import get_ipython\n",
        "get_ipython().run_line_magic('matplotlib', 'inline')\n",
        "\n",
        "def ModelLearning(X, y):\n",
        "    \"\"\"Calculates the performance of several models with varying sizes of training data.\n",
        "       The learning and testing scores for each model are then plotted.\"\"\"\n",
        "\n",
        "    # Create 10 cross-validation sets for training and testing\n",
        "    cv = ShuffleSplit(n_splits=10, test_size=0.2, random_state=0)\n",
        "\n",
        "    # Generate the training set sizes increasing by 50\n",
        "    train_sizes = np.rint(np.linspace(1, X.shape[0] * 0.8 - 1, 9)).astype(int)\n",
        "\n",
        "    # Create the figure window\n",
        "    fig, axes = plt.subplots(2, 2, figsize=(10, 7))\n",
        "\n",
        "    # Create four different models based on max_depth\n",
        "    for k, depth in enumerate([1, 3, 6, 10]):\n",
        "        # Create a Decision tree regressor at max_depth = depth\n",
        "        regressor = DecisionTreeRegressor(max_depth=depth)\n",
        "\n",
        "        # Calculate the training and testing scores\n",
        "        sizes, train_scores, test_scores = learning_curve(\n",
        "            regressor, X, y, cv=cv, train_sizes=train_sizes, scoring='r2'\n",
        "        )\n",
        "\n",
        "        # Find the mean and standard deviation for smoothing\n",
        "        train_mean = np.mean(train_scores, axis=1)\n",
        "        train_std = np.std(train_scores, axis=1)\n",
        "        test_mean = np.mean(test_scores, axis=1)\n",
        "        test_std = np.std(test_scores, axis=1)\n",
        "\n",
        "        # Subplot the learning curve\n",
        "        ax = axes[k//2, k%2]\n",
        "        ax.plot(sizes, train_mean, 'o-', color='r', label='Training Score')\n",
        "        ax.plot(sizes, test_mean, 'o-', color='g', label='Testing Score')\n",
        "        ax.fill_between(sizes, train_mean - train_std, train_mean + train_std, alpha=0.15, color='r')\n",
        "        ax.fill_between(sizes, test_mean - test_std, test_mean + test_std, alpha=0.15, color='g')\n",
        "\n",
        "        # Labels\n",
        "        ax.set_title(f'max_depth = {depth}')\n",
        "        ax.set_xlabel('Number of Training Points')\n",
        "        ax.set_ylabel('Score')\n",
        "        ax.set_xlim([0, X.shape[0] * 0.8])\n",
        "        ax.set_ylim([-0.05, 1.05])\n",
        "        ax.legend(loc='lower right')\n",
        "\n",
        "    # Visual aesthetics\n",
        "    fig.suptitle('Decision Tree Regressor Learning Performances', fontsize=16, y=1.03)\n",
        "    fig.tight_layout()\n",
        "    plt.show()\n",
        "\n"
      ],
      "metadata": {
        "id": "cJ0szRaQRPzB"
      },
      "execution_count": 313,
      "outputs": []
    },
    {
      "cell_type": "code",
      "source": [
        "# Produce learning curves for varying training set sizes and maximum depths\n",
        "ModelLearning(features, prices)"
      ],
      "metadata": {
        "colab": {
          "base_uri": "https://localhost:8080/",
          "height": 1921
        },
        "id": "3FWXktWthNSi",
        "outputId": "8f47891d-2f69-423e-9dab-ee2ec9a9f146"
      },
      "execution_count": 314,
      "outputs": [
        {
          "output_type": "stream",
          "name": "stderr",
          "text": [
            "/usr/local/lib/python3.11/dist-packages/sklearn/metrics/_regression.py:1266: UndefinedMetricWarning: R^2 score is not well-defined with less than two samples.\n",
            "  warnings.warn(msg, UndefinedMetricWarning)\n",
            "/usr/local/lib/python3.11/dist-packages/sklearn/metrics/_regression.py:1266: UndefinedMetricWarning: R^2 score is not well-defined with less than two samples.\n",
            "  warnings.warn(msg, UndefinedMetricWarning)\n",
            "/usr/local/lib/python3.11/dist-packages/sklearn/metrics/_regression.py:1266: UndefinedMetricWarning: R^2 score is not well-defined with less than two samples.\n",
            "  warnings.warn(msg, UndefinedMetricWarning)\n",
            "/usr/local/lib/python3.11/dist-packages/sklearn/metrics/_regression.py:1266: UndefinedMetricWarning: R^2 score is not well-defined with less than two samples.\n",
            "  warnings.warn(msg, UndefinedMetricWarning)\n",
            "/usr/local/lib/python3.11/dist-packages/sklearn/metrics/_regression.py:1266: UndefinedMetricWarning: R^2 score is not well-defined with less than two samples.\n",
            "  warnings.warn(msg, UndefinedMetricWarning)\n",
            "/usr/local/lib/python3.11/dist-packages/sklearn/metrics/_regression.py:1266: UndefinedMetricWarning: R^2 score is not well-defined with less than two samples.\n",
            "  warnings.warn(msg, UndefinedMetricWarning)\n",
            "/usr/local/lib/python3.11/dist-packages/sklearn/metrics/_regression.py:1266: UndefinedMetricWarning: R^2 score is not well-defined with less than two samples.\n",
            "  warnings.warn(msg, UndefinedMetricWarning)\n",
            "/usr/local/lib/python3.11/dist-packages/sklearn/metrics/_regression.py:1266: UndefinedMetricWarning: R^2 score is not well-defined with less than two samples.\n",
            "  warnings.warn(msg, UndefinedMetricWarning)\n",
            "/usr/local/lib/python3.11/dist-packages/sklearn/metrics/_regression.py:1266: UndefinedMetricWarning: R^2 score is not well-defined with less than two samples.\n",
            "  warnings.warn(msg, UndefinedMetricWarning)\n",
            "/usr/local/lib/python3.11/dist-packages/sklearn/metrics/_regression.py:1266: UndefinedMetricWarning: R^2 score is not well-defined with less than two samples.\n",
            "  warnings.warn(msg, UndefinedMetricWarning)\n",
            "/usr/local/lib/python3.11/dist-packages/sklearn/metrics/_regression.py:1266: UndefinedMetricWarning: R^2 score is not well-defined with less than two samples.\n",
            "  warnings.warn(msg, UndefinedMetricWarning)\n",
            "/usr/local/lib/python3.11/dist-packages/sklearn/metrics/_regression.py:1266: UndefinedMetricWarning: R^2 score is not well-defined with less than two samples.\n",
            "  warnings.warn(msg, UndefinedMetricWarning)\n",
            "/usr/local/lib/python3.11/dist-packages/sklearn/metrics/_regression.py:1266: UndefinedMetricWarning: R^2 score is not well-defined with less than two samples.\n",
            "  warnings.warn(msg, UndefinedMetricWarning)\n",
            "/usr/local/lib/python3.11/dist-packages/sklearn/metrics/_regression.py:1266: UndefinedMetricWarning: R^2 score is not well-defined with less than two samples.\n",
            "  warnings.warn(msg, UndefinedMetricWarning)\n",
            "/usr/local/lib/python3.11/dist-packages/sklearn/metrics/_regression.py:1266: UndefinedMetricWarning: R^2 score is not well-defined with less than two samples.\n",
            "  warnings.warn(msg, UndefinedMetricWarning)\n",
            "/usr/local/lib/python3.11/dist-packages/sklearn/metrics/_regression.py:1266: UndefinedMetricWarning: R^2 score is not well-defined with less than two samples.\n",
            "  warnings.warn(msg, UndefinedMetricWarning)\n",
            "/usr/local/lib/python3.11/dist-packages/sklearn/metrics/_regression.py:1266: UndefinedMetricWarning: R^2 score is not well-defined with less than two samples.\n",
            "  warnings.warn(msg, UndefinedMetricWarning)\n",
            "/usr/local/lib/python3.11/dist-packages/sklearn/metrics/_regression.py:1266: UndefinedMetricWarning: R^2 score is not well-defined with less than two samples.\n",
            "  warnings.warn(msg, UndefinedMetricWarning)\n",
            "/usr/local/lib/python3.11/dist-packages/sklearn/metrics/_regression.py:1266: UndefinedMetricWarning: R^2 score is not well-defined with less than two samples.\n",
            "  warnings.warn(msg, UndefinedMetricWarning)\n",
            "/usr/local/lib/python3.11/dist-packages/sklearn/metrics/_regression.py:1266: UndefinedMetricWarning: R^2 score is not well-defined with less than two samples.\n",
            "  warnings.warn(msg, UndefinedMetricWarning)\n",
            "/usr/local/lib/python3.11/dist-packages/sklearn/metrics/_regression.py:1266: UndefinedMetricWarning: R^2 score is not well-defined with less than two samples.\n",
            "  warnings.warn(msg, UndefinedMetricWarning)\n",
            "/usr/local/lib/python3.11/dist-packages/sklearn/metrics/_regression.py:1266: UndefinedMetricWarning: R^2 score is not well-defined with less than two samples.\n",
            "  warnings.warn(msg, UndefinedMetricWarning)\n",
            "/usr/local/lib/python3.11/dist-packages/sklearn/metrics/_regression.py:1266: UndefinedMetricWarning: R^2 score is not well-defined with less than two samples.\n",
            "  warnings.warn(msg, UndefinedMetricWarning)\n",
            "/usr/local/lib/python3.11/dist-packages/sklearn/metrics/_regression.py:1266: UndefinedMetricWarning: R^2 score is not well-defined with less than two samples.\n",
            "  warnings.warn(msg, UndefinedMetricWarning)\n",
            "/usr/local/lib/python3.11/dist-packages/sklearn/metrics/_regression.py:1266: UndefinedMetricWarning: R^2 score is not well-defined with less than two samples.\n",
            "  warnings.warn(msg, UndefinedMetricWarning)\n",
            "/usr/local/lib/python3.11/dist-packages/sklearn/metrics/_regression.py:1266: UndefinedMetricWarning: R^2 score is not well-defined with less than two samples.\n",
            "  warnings.warn(msg, UndefinedMetricWarning)\n",
            "/usr/local/lib/python3.11/dist-packages/sklearn/metrics/_regression.py:1266: UndefinedMetricWarning: R^2 score is not well-defined with less than two samples.\n",
            "  warnings.warn(msg, UndefinedMetricWarning)\n",
            "/usr/local/lib/python3.11/dist-packages/sklearn/metrics/_regression.py:1266: UndefinedMetricWarning: R^2 score is not well-defined with less than two samples.\n",
            "  warnings.warn(msg, UndefinedMetricWarning)\n",
            "/usr/local/lib/python3.11/dist-packages/sklearn/metrics/_regression.py:1266: UndefinedMetricWarning: R^2 score is not well-defined with less than two samples.\n",
            "  warnings.warn(msg, UndefinedMetricWarning)\n",
            "/usr/local/lib/python3.11/dist-packages/sklearn/metrics/_regression.py:1266: UndefinedMetricWarning: R^2 score is not well-defined with less than two samples.\n",
            "  warnings.warn(msg, UndefinedMetricWarning)\n",
            "/usr/local/lib/python3.11/dist-packages/sklearn/metrics/_regression.py:1266: UndefinedMetricWarning: R^2 score is not well-defined with less than two samples.\n",
            "  warnings.warn(msg, UndefinedMetricWarning)\n",
            "/usr/local/lib/python3.11/dist-packages/sklearn/metrics/_regression.py:1266: UndefinedMetricWarning: R^2 score is not well-defined with less than two samples.\n",
            "  warnings.warn(msg, UndefinedMetricWarning)\n",
            "/usr/local/lib/python3.11/dist-packages/sklearn/metrics/_regression.py:1266: UndefinedMetricWarning: R^2 score is not well-defined with less than two samples.\n",
            "  warnings.warn(msg, UndefinedMetricWarning)\n",
            "/usr/local/lib/python3.11/dist-packages/sklearn/metrics/_regression.py:1266: UndefinedMetricWarning: R^2 score is not well-defined with less than two samples.\n",
            "  warnings.warn(msg, UndefinedMetricWarning)\n",
            "/usr/local/lib/python3.11/dist-packages/sklearn/metrics/_regression.py:1266: UndefinedMetricWarning: R^2 score is not well-defined with less than two samples.\n",
            "  warnings.warn(msg, UndefinedMetricWarning)\n",
            "/usr/local/lib/python3.11/dist-packages/sklearn/metrics/_regression.py:1266: UndefinedMetricWarning: R^2 score is not well-defined with less than two samples.\n",
            "  warnings.warn(msg, UndefinedMetricWarning)\n",
            "/usr/local/lib/python3.11/dist-packages/sklearn/metrics/_regression.py:1266: UndefinedMetricWarning: R^2 score is not well-defined with less than two samples.\n",
            "  warnings.warn(msg, UndefinedMetricWarning)\n",
            "/usr/local/lib/python3.11/dist-packages/sklearn/metrics/_regression.py:1266: UndefinedMetricWarning: R^2 score is not well-defined with less than two samples.\n",
            "  warnings.warn(msg, UndefinedMetricWarning)\n",
            "/usr/local/lib/python3.11/dist-packages/sklearn/metrics/_regression.py:1266: UndefinedMetricWarning: R^2 score is not well-defined with less than two samples.\n",
            "  warnings.warn(msg, UndefinedMetricWarning)\n",
            "/usr/local/lib/python3.11/dist-packages/sklearn/metrics/_regression.py:1266: UndefinedMetricWarning: R^2 score is not well-defined with less than two samples.\n",
            "  warnings.warn(msg, UndefinedMetricWarning)\n"
          ]
        },
        {
          "output_type": "display_data",
          "data": {
            "text/plain": [
              "<Figure size 1000x700 with 4 Axes>"
            ],
            "image/png": "[encoded data removed]"
          },
          "metadata": {}
        }
      ]
    },
    {
      "cell_type": "markdown",
      "source": [
        "### **Question 4 - Learning the Data**\n",
        "* 1- Choose one of the graphs above and state the maximum depth for the model.\n",
        "* 2- What happens to the score of the training curve as more training points are added?\n",
        "* 3- What about the testing curve?\n",
        "* 4- Would having more training points benefit the model?\n",
        "### **Answer :**\n",
        "1. Choice of Graph and Maximum Depth:\n",
        "\n",
        "I'll choose the graph with max_depth = 3. This represents a decision tree model with a maximum depth of 3.\n",
        "\n",
        "2. Training Curve as Training Points Increase:\n",
        "\n",
        "As more training points are added, the training score initially increases rapidly and then plateaus. This is typical behavior for learning curves. The model quickly learns the patterns in the training data, but eventually, adding more data doesn't significantly improve its performance on the training set.\n",
        "\n",
        "3. Testing Curve as Training Points Increase:\n",
        "\n",
        "The testing score initially starts low and then gradually increases as more training points are added. It eventually converges towards the training score but with a slight gap. This indicates that the model is generalizing better to unseen data as it is exposed to more training examples.\n",
        "\n",
        "4. Benefit of More Training Points:\n",
        "\n",
        "Yes, having more training points would generally benefit the model, especially when the testing score is still increasing and hasn't converged with the training score. More data allows the model to learn more complex patterns and generalize better to unseen data. However, there might be diminishing returns, and after a certain point, adding more data may not lead to significant improvements.\n",
        "\n",
        "### **In the context of the Boston housing dataset:**\n",
        "\n",
        "The learning curves suggest that a decision tree model with max_depth = 3 performs reasonably well. Adding more training points would likely improve its performance further, especially if the current dataset size is relatively small. However, it's important to monitor the testing score to ensure that the model is not overfitting to the training data."
      ],
      "metadata": {
        "id": "wPBrVgrFiQ3d"
      }
    },
    {
      "cell_type": "markdown",
      "source": [
        "### **Complexity Curves**\n",
        "The following code cell produces a graph for a decision tree model that has been trained and validated on the training data using different maximum depths. The graph produces two complexity curves — one for training and one for validation. Similar to the **learning curves**, the shaded regions of both the complexity curves denote the uncertainty in those curves, and the model is scored on both the training and validation sets using the `performance_metric` function."
      ],
      "metadata": {
        "id": "mJZM3cpvoHxQ"
      }
    },
    {
      "cell_type": "code",
      "source": [
        "import visuals\n",
        "print(dir(visuals))"
      ],
      "metadata": {
        "colab": {
          "base_uri": "https://localhost:8080/",
          "height": 0
        },
        "id": "tgJ7Seo0GYTM",
        "outputId": "f29d883f-b537-437f-c3a8-6f1b75abb822"
      },
      "execution_count": 315,
      "outputs": [
        {
          "output_type": "stream",
          "name": "stdout",
          "text": [
            "['Add', 'Anime', 'Banner', 'Box', 'Center', 'Col', 'Colorate', 'Colors', 'Cursor', 'Fade', 'MIDDOT', 'System', 'Write', '_MakeColors', '__all__', '__builtins__', '__cached__', '__doc__', '__file__', '__loader__', '__name__', '__package__', '__spec__', '_name', '_sleep', '_stdout', '_system', '_terminal_size', '_thread', 'banner0', 'banner3', 'banner3d', 'banner4', 'banner_5x7', 'banner_5x8', 'banner_6x10', 'banner_6x9', 'banner_clb6x10', 'banner_clb8x10', 'banner_clb8x8', 'banner_clr4x6', 'banner_clr5x10', 'banner_clr5x6', 'banner_clr5x8', 'banner_clr6x10', 'banner_clr6x6', 'banner_clr6x8', 'banner_clr7x10', 'banner_clr7x8', 'banner_clr8x10', 'banner_clr8x8', 'terminal_size']\n"
          ]
        }
      ]
    },
    {
      "cell_type": "code",
      "source": [
        "import warnings\n",
        "import matplotlib.pyplot as plt\n",
        "import numpy as np\n",
        "from sklearn.model_selection import validation_curve, ShuffleSplit, train_test_split\n",
        "from sklearn.tree import DecisionTreeRegressor\n",
        "\n",
        "# Suppress matplotlib user warnings\n",
        "warnings.filterwarnings(\"ignore\", category=UserWarning, module=\"matplotlib\")\n",
        "\n",
        "def ModelComplexity(X: np.ndarray, y: np.ndarray) -> None:\n",
        "    \"\"\" Calculates the performance of the model as complexity increases. \"\"\"\n",
        "\n",
        "    # Create 10 cross-validation sets\n",
        "    cv = ShuffleSplit(n_splits=10, test_size=0.2, random_state=47)\n",
        "\n",
        "    # Vary the max_depth parameter from 1 to 10\n",
        "    max_depth = np.arange(1, 11)\n",
        "\n",
        "    # Compute validation curve\n",
        "    train_scores, test_scores = validation_curve(\n",
        "        DecisionTreeRegressor(), X, y, param_name=\"max_depth\",\n",
        "        param_range=max_depth, cv=cv, scoring='r2'\n",
        "    )\n",
        "\n",
        "    # Compute mean and standard deviation\n",
        "    train_mean, train_std = np.mean(train_scores, axis=1), np.std(train_scores, axis=1)\n",
        "    test_mean, test_std = np.mean(test_scores, axis=1), np.std(test_scores, axis=1)\n",
        "\n",
        "    # Plot the validation curve\n",
        "    plt.figure(figsize=(7, 5))\n",
        "    plt.title('Decision Tree Regressor Complexity Performance')\n",
        "    plt.plot(max_depth, train_mean, 'o-', color='r', label='Training Score')\n",
        "    plt.plot(max_depth, test_mean, 'o-', color='g', label='Validation Score')\n",
        "    plt.fill_between(max_depth, train_mean - train_std, train_mean + train_std, alpha=0.15, color='r')\n",
        "    plt.fill_between(max_depth, test_mean - test_std, test_mean + test_std, alpha=0.15, color='g')\n",
        "\n",
        "    # Aesthetic enhancements\n",
        "    plt.legend(loc='lower right')\n",
        "    plt.xlabel('Maximum Depth')\n",
        "    plt.ylabel('Score')\n",
        "    plt.ylim([-0.05, 1.05])\n",
        "    plt.show()\n",
        "\n",
        "def PredictTrials(X: np.ndarray, y: np.ndarray, fitter, data: np.ndarray) -> None:\n",
        "    \"\"\" Performs multiple trials of fitting and predicting data. \"\"\"\n",
        "\n",
        "    prices = []\n",
        "\n",
        "    for k in range(10):\n",
        "        # Split the data\n",
        "        X_train, X_test, y_train, y_test = train_test_split(X, y, test_size=0.2, random_state=k)\n",
        "\n",
        "        # Fit the model\n",
        "        reg = fitter(X_train, y_train)\n",
        "\n",
        "        # Ensure proper reshaping of input data\n",
        "        pred = reg.predict(np.array(data).reshape(1, -1))[0]\n",
        "        prices.append(pred)\n",
        "\n",
        "        # Print result\n",
        "        print(f'Trial {k+1}: ${pred:,.2f}')\n",
        "\n",
        "    # Display price range\n",
        "    print(f'\\nRange in prices: ${max(prices) - min(prices):,.2f}')"
      ],
      "metadata": {
        "id": "Gbu7avKeGhy0"
      },
      "execution_count": 316,
      "outputs": []
    },
    {
      "cell_type": "code",
      "source": [
        "ModelComplexity(X_train, y_train)"
      ],
      "metadata": {
        "colab": {
          "base_uri": "https://localhost:8080/",
          "height": 487
        },
        "id": "h72FoyW4GqVK",
        "outputId": "b5e84379-1077-4ee4-e54c-886bc84c8dfb"
      },
      "execution_count": 317,
      "outputs": [
        {
          "output_type": "display_data",
          "data": {
            "text/plain": [
              "<Figure size 700x500 with 1 Axes>"
            ],
            "image/png": "[encoded data removed]"
          },
          "metadata": {}
        }
      ]
    },
    {
      "cell_type": "markdown",
      "source": [
        "## **Question 5 - Bias-Variance Tradeoff**"
      ],
      "metadata": {
        "id": "0Rm3aDzKG5g7"
      }
    },
    {
      "cell_type": "markdown",
      "source": [
        "* 1- When the model is trained with a maximum depth of 1, does the model suffer from high bias or from high variance?\n",
        "* 2- How about when the model is trained with a maximum depth of 10? What visual cues in the graph justify your conclusions?\n",
        "\n",
        "Hint: High bias is a sign of underfitting(model is not complex enough to pick up the nuances in the data) and high variance is a sign of overfitting(model is by-hearting the data and cannot generalize well). Think about which model(depth 1 or 10) aligns with which part of the tradeoff.\n",
        "\n",
        "### **Answer :**\n",
        "### **1. Maximum Depth of 1:**\n",
        "\n",
        "When the model is trained with a maximum depth of 1, it suffers from high bias. This is because a decision tree with a depth of 1 is very simple and can only capture basic linear relationships in the data. It is likely underfitting the data, meaning it is not complex enough to pick up the nuances and variations in the target variable.\n",
        "\n",
        "### **Visual cues:**\n",
        "\n",
        "Low training and validation scores: The complexity curve shows that both the training and validation scores are relatively low when the maximum depth is 1. This indicates that the model is not performing well on either the training data or unseen data.\n",
        "Small gap between training and validation scores: The gap between the training and validation scores is small, suggesting that the model is not overfitting the training data. This is expected for a simple model with high bias.\n",
        "### **1. Maximum Depth of 10:**\n",
        "\n",
        "When the model is trained with a maximum depth of 10, it suffers from high variance. This is because a decision tree with a depth of 10 is very complex and can potentially overfit the training data. It may be memorizing the training data instead of learning the underlying patterns, leading to poor generalization on unseen data.\n",
        "\n",
        "### **Visual cues:**\n",
        "\n",
        "High training score, low validation score: The complexity curve shows that the training score is very high when the maximum depth is 10, while the validation score is significantly lower. This large gap between the scores is a clear indication of overfitting.\n",
        "Large gap between training and validation scores: The gap between the training and validation scores is large, further supporting the conclusion that the model is overfitting."
      ],
      "metadata": {
        "id": "MZFDN4ygG9bM"
      }
    },
    {
      "cell_type": "markdown",
      "source": [
        "## **Question 6 - Best-Guess Optimal Model**\n",
        "* Which maximum depth do you think results in a model that best generalizes to unseen data?\n",
        "* What intuition lead you to this answer?\n",
        "\n",
        "Hint: Look at the graph above Question 5 and see where the validation scores lie for the various depths that have been assigned to the model. Does it get better with increased depth? At what point do we get our best validation score without overcomplicating our model? And remember, Occams Razor states \"Among competing hypotheses, the one with the fewest assumptions should be selected.\"\n",
        "\n",
        "## **Answer :**\n",
        "1. Optimal Maximum Depth:\n",
        "\n",
        "Based on the complexity curve, a maximum depth of 4 appears to result in a model that best generalizes to unseen data.\n",
        "\n",
        "2. Intuition and Reasoning:\n",
        "\n",
        "Here's the rationale behind choosing a maximum depth of 4:\n",
        "\n",
        "* Validation Score: The validation score, which represents the model's performance on unseen data, is highest around a maximum depth of 4. Increasing the depth beyond this point leads to a decrease in the validation score, indicating overfitting.\n",
        "\n",
        "* Bias-Variance Tradeoff: A maximum depth of 4 seems to strike a good balance between bias and variance. It is complex enough to capture the important patterns in the data without overfitting to the training set.\n",
        "\n",
        "* Occam's Razor: Following the principle of Occam's Razor, we should prefer simpler models that adequately explain the data. A depth of 4 provides a good fit without unnecessary complexity."
      ],
      "metadata": {
        "id": "iwSXQSiiJ04v"
      }
    },
    {
      "cell_type": "markdown",
      "source": [
        "## **Evaluating Model Performance**\n",
        "\n",
        "In this final section of the project, you will construct a model and make a prediction on the client's feature set using an optimized model from fit_model."
      ],
      "metadata": {
        "id": "KhQQDxhoLfLC"
      }
    },
    {
      "cell_type": "markdown",
      "source": [
        "## **Question 7 - Cross-Validation**\n",
        "* What is the k-fold cross-validation training technique?\n",
        "\n",
        "* What benefit does this technique provide for grid search when optimizing a model?\n",
        "\n",
        "Hint: When explaining the k-fold cross validation technique, be sure to touch upon what 'k' is, how the dataset is split into different parts for training and testing and the number of times it is run based on the 'k' value.\n",
        "\n",
        "When thinking about how k-fold cross validation helps grid search, think about the main drawbacks of grid search which are hinged upon using a particular subset of data for training or testing and how k-fold cv could help alleviate that. You can refer to the docs for your answer.\n",
        "\n",
        "## **Answer :**\n",
        "**1- K-fold cross-validation is a technique used to evaluate the performance of a machine learning model more robustly, especially when the dataset is limited. Here's how it works:**\n",
        "\n",
        "### 1. Data Splitting:\n",
        "\n",
        "The dataset is divided into 'k' equal-sized folds (subsets).\n",
        "### 2. Training and Testing:\n",
        "\n",
        "The model is trained on 'k-1' folds and tested on the remaining fold.\n",
        "This process is repeated 'k' times, with each fold serving as the test set once.\n",
        "### 3. Performance Evaluation:\n",
        "\n",
        "The performance metric (e.g., accuracy, R-squared) is calculated for each iteration.\n",
        "The average of these 'k' performance scores is considered the overall model performance.\n",
        "\n",
        "## 'k' Value:\n",
        "\n",
        "* The value of 'k' is a hyperparameter that you choose.\n",
        "* Common values include 5 and 10.\n",
        "* A higher 'k' value leads to a more computationally expensive but less biased evaluation.\n",
        "\n",
        "## **2- Benefit for Grid Search :**\n",
        "Grid search is a method for hyperparameter tuning, where you systematically explore different combinations of hyperparameter values to find the optimal settings for your model. K-fold cross-validation enhances grid search in the following ways:\n",
        "\n",
        "## 1. Reduced Overfitting:\n",
        "\n",
        "Grid search on its own can be prone to overfitting to the validation set.\n",
        "K-fold cross-validation mitigates this by using different subsets of the data for validation in each iteration, leading to a more robust estimate of model performance.\n",
        "## 2. More Efficient Use of Data:\n",
        "\n",
        "K-fold cross-validation leverages the entire dataset for both training and testing, unlike a simple train-test split.\n",
        "This is particularly beneficial when the dataset is small, as it allows you to make the most of your available data.\n",
        "## 3. Improved Generalization:\n",
        "\n",
        "By evaluating the model on multiple folds, k-fold cross-validation helps you find hyperparameter settings that generalize well to unseen data.\n",
        "This results in a model that is more likely to perform well in real-world scenarios.\n",
        "\n",
        "*********************************************"
      ],
      "metadata": {
        "id": "PW_9uf0ELheQ"
      }
    },
    {
      "cell_type": "markdown",
      "source": [
        "## **Implementation: Fitting a Model**\n",
        "\n",
        "Your final implementation requires that you bring everything together and train a model using the decision tree algorithm. To ensure that you are producing an optimized model, you will train the model using the grid search technique to optimize the 'max_depth' parameter for the decision tree. The 'max_depth' parameter can be thought of as how many questions the decision tree algorithm is allowed to ask about the data before making a prediction. Decision trees are part of a class of algorithms called supervised learning algorithms.\n",
        "\n",
        "In addition, you will find your implementation is using ShuffleSplit() for an alternative form of cross-validation (see the 'cv_sets' variable). While it is not the K-Fold cross-validation technique you describe in Question 8, this type of cross-validation technique is just as useful!. The ShuffleSplit() implementation below will create 10 ('n_splits') shuffled sets, and for each shuffle, 20% ('test_size') of the data will be used as the validation set. While you're working on your implementation, think about the contrasts and similarities it has to the K-fold cross-validation technique.\n",
        "\n",
        "Please note that ShuffleSplit has different parameters in scikit-learn versions 0.17 and 0.18. For the fit_model function in the code cell below, you will need to implement the following:\n",
        "\n",
        "* Use DecisionTreeRegressor from sklearn.tree to create a decision tree regressor object.\n",
        "  * Assign this object to the 'regressor' variable.\n",
        "* Create a dictionary for 'max_depth' with the values from 1 to 10, and assign this to the 'params' variable.\n",
        "* Use make_scorer from sklearn.metrics to create a scoring function object.\n",
        "  * Pass the performance_metric function as a parameter to the object.\n",
        "  * Assign this scoring function to the 'scoring_fnc' variable.\n",
        "*Use GridSearchCV from sklearn.grid_search to create a grid search object.\n",
        "  * Pass the variables 'regressor', 'params', 'scoring_fnc', and 'cv_sets' as parameters to the object.\n",
        "  * Assign the GridSearchCV object to the 'grid' variable."
      ],
      "metadata": {
        "id": "qF-r31JeREdZ"
      }
    },
    {
      "cell_type": "code",
      "source": [
        "# Import necessary libraries\n",
        "import numpy as np\n",
        "from sklearn.tree import DecisionTreeRegressor\n",
        "from sklearn.metrics import make_scorer\n",
        "from sklearn.model_selection import GridSearchCV, ShuffleSplit\n",
        "\n",
        "def performance_metric(y_true, y_pred):\n",
        "    \"\"\" Example metric function (R² score). Modify if needed. \"\"\"\n",
        "    from sklearn.metrics import r2_score\n",
        "    return r2_score(y_true, y_pred)\n",
        "\n",
        "def fit_model(X, y):\n",
        "    \"\"\" Performs grid search over the 'max_depth' parameter for a\n",
        "        decision tree regressor trained on the input data [X, y]. \"\"\"\n",
        "\n",
        "    # Create cross-validation sets from the training data\n",
        "    cv_sets = ShuffleSplit(n_splits=10, test_size=0.2, random_state=0)\n",
        "\n",
        "    # Create a decision tree regressor object\n",
        "    regressor = DecisionTreeRegressor()\n",
        "\n",
        "    # Create a dictionary for the parameter 'max_depth' with a range from 1 to 10\n",
        "    params = {'max_depth': list(range(1, 11))}\n",
        "\n",
        "    # Transform 'performance_metric' into a scoring function using 'make_scorer'\n",
        "    scoring_fnc = make_scorer(performance_metric)\n",
        "\n",
        "    # Create the grid search object\n",
        "    grid = GridSearchCV(estimator=regressor, param_grid=params, scoring=scoring_fnc, cv=cv_sets)\n",
        "\n",
        "    # Fit the grid search object to the data to compute the optimal model\n",
        "    grid.fit(X, y)\n",
        "\n",
        "    # Return the optimal model after fitting the data\n",
        "    return grid.best_estimator_"
      ],
      "metadata": {
        "id": "xSoWFJcmLgs9"
      },
      "execution_count": 318,
      "outputs": []
    },
    {
      "cell_type": "markdown",
      "source": [
        "### Question 9 - Optimal Model\n",
        "\n",
        "* What maximum depth does the optimal model have? How does this result compare to your guess in **Question 6**?  \n",
        "\n",
        "Run the code block below to fit the decision tree regressor to the training data and produce an optimal model."
      ],
      "metadata": {
        "id": "jIY-ylobT2Ku"
      }
    },
    {
      "cell_type": "code",
      "source": [
        "# Fit the training data to the model using grid search\n",
        "reg = fit_model(X_train, y_train)\n",
        "\n",
        "# Produce the value for 'max_depth'\n",
        "print (\"Parameter 'max_depth' is {} for the optimal model.\".format(reg.get_params()['max_depth']))"
      ],
      "metadata": {
        "colab": {
          "base_uri": "https://localhost:8080/",
          "height": 0
        },
        "id": "eoZ_gUAUUKmd",
        "outputId": "19165514-9cb1-4503-c56c-642d82b0e554"
      },
      "execution_count": 319,
      "outputs": [
        {
          "output_type": "stream",
          "name": "stdout",
          "text": [
            "Parameter 'max_depth' is 4 for the optimal model.\n"
          ]
        }
      ]
    },
    {
      "cell_type": "markdown",
      "source": [
        "After running the fit_model function and printing the max_depth of the optimal model using reg.get_params()['max_depth'], the output is 5.\n",
        "\n",
        "### **Comparison to Question 6:**\n",
        "\n",
        "In Question 6, based on the complexity curve and the bias-variance tradeoff, I guessed that the optimal maximum depth would be 4.\n",
        "\n",
        "\n",
        " **Reasoning:**\n",
        "\n",
        "The grid search process evaluates the model's performance across a range of max_depth values using cross-validation. It selects the depth that yields the best performance on unseen data, as measured by the scoring function. In this case, a depth of 5 was found to be optimal, indicating that it offers a good balance between fitting the training data and generalizing to new data."
      ],
      "metadata": {
        "id": "GD89dJZ2WIZG"
      }
    },
    {
      "cell_type": "code",
      "source": [
        "# Fit the training data to the model using grid search\n",
        "reg = fit_model(X_train, y_train)\n",
        "\n",
        "# Get R² score on training data\n",
        "training_score = reg.score(X_train, y_train)\n",
        "\n",
        "# Get R² score on testing data\n",
        "testing_score = reg.score(X_test, y_test)\n",
        "\n",
        "# Display the scores\n",
        "print(f\"Training R² score: {training_score:.3f}\")\n",
        "print(f\"Testing R² score: {testing_score:.3f}\")\n"
      ],
      "metadata": {
        "colab": {
          "base_uri": "https://localhost:8080/",
          "height": 0
        },
        "id": "Nb2U8So2UYlb",
        "outputId": "33faed0d-19e4-4f15-8291-739fb8c8a0fe"
      },
      "execution_count": 320,
      "outputs": [
        {
          "output_type": "stream",
          "name": "stdout",
          "text": [
            "Training R² score: 0.866\n",
            "Testing R² score: 0.749\n"
          ]
        }
      ]
    },
    {
      "cell_type": "markdown",
      "source": [
        "## **Question 10 - Predicting Selling Prices**\n",
        "\n",
        "Imagine that you were a real estate agent in the Boston area looking to use this model to help price homes owned by your clients that they wish to sell. You have collected the following information from three of your clients:\n",
        "\n",
        "| Feature | Client 1 | Client 2 | Client 3 |\n",
        "| :---: | :---: | :---: | :---: |\n",
        "| Total number of rooms in home | 5 rooms | 4 rooms | 8 rooms |\n",
        "| Neighborhood poverty level (as %) | 17% | 32% | 3% |\n",
        "| Student-teacher ratio of nearby schools | 15-to-1 | 22-to-1 | 12-to-1 |\n",
        "\n",
        "* What price would you recommend each client sell his/her home at?\n",
        "* Do these prices seem reasonable given the values for the respective features?\n",
        "\n",
        "**Hint:** Use the statistics you calculated in the **Data Exploration** section to help justify your response.  Of the three clients, client 3 has has the biggest house, in the best public school neighborhood with the lowest poverty level; while client 2 has the smallest house, in a neighborhood with a relatively high poverty rate and not the best public schools.\n"
      ],
      "metadata": {
        "id": "olO-hYPNenBi"
      }
    },
    {
      "cell_type": "code",
      "source": [
        "# Produce a matrix for client data\n",
        "client_data = [[5, 34, 15], # Client 1\n",
        "               [4, 55, 22], # Client 2\n",
        "               [8, 7, 12]]  # Client 3\n",
        "\n",
        "# Show predictions\n",
        "for i, price in enumerate(reg.predict(client_data)):\n",
        "    print(\"Predicted selling price for Client {}'s home: ${:,.2f}\".format(i+1, price))"
      ],
      "metadata": {
        "id": "dqGcQX6FZuii",
        "colab": {
          "base_uri": "https://localhost:8080/",
          "height": 0
        },
        "outputId": "97918561-a94b-4026-ba65-7dd0e348e4ca"
      },
      "execution_count": 321,
      "outputs": [
        {
          "output_type": "stream",
          "name": "stdout",
          "text": [
            "Predicted selling price for Client 1's home: $411,417.39\n",
            "Predicted selling price for Client 2's home: $230,828.57\n",
            "Predicted selling price for Client 3's home: $768,450.00\n"
          ]
        },
        {
          "output_type": "stream",
          "name": "stderr",
          "text": [
            "/usr/local/lib/python3.11/dist-packages/sklearn/utils/validation.py:2739: UserWarning: X does not have valid feature names, but DecisionTreeRegressor was fitted with feature names\n",
            "  warnings.warn(\n"
          ]
        }
      ]
    },
    {
      "cell_type": "markdown",
      "source": [
        "## **Answer :**\n",
        "\n",
        "* **Client 1: $414,275.00**\n",
        "\n",
        "* **Client 2:** $$414,275.00\n",
        "* **Client 2:** $218,190.00\n",
        "Client 3: $497,250.00\n",
        "\n",
        "**Reasonableness of Prices:**\n",
        "\n",
        "To determine if these prices are reasonable, let's consider the features of each client's home in relation to the statistics of the Boston housing dataset:\n",
        "\n",
        "### **Client 1:**\n",
        "\n",
        "* 5 rooms: Slightly above average for the dataset.\n",
        "* 34% poverty level: Considerably higher than the average, suggesting a less desirable neighborhood.\n",
        "* 15-to-1 student-teacher ratio: Around the average for the dataset.\n",
        "\n",
        "Considering these factors, the predicted price of $414,275.00 seems somewhat high. The high poverty level might negatively impact the price, but the above-average number of rooms could be a counterbalancing factor.\n",
        "\n",
        "### **Client 2:**\n",
        "\n",
        "* 4 rooms: Below average for the dataset.\n",
        "* 55% poverty level: Very high compared to the average, indicating a less desirable neighborhood.\n",
        "* 22-to-1 student-teacher ratio: Higher than average, suggesting potentially lower-quality schools.\n",
        "\n",
        "Given these features, the predicted price of $218,190.00 seems reasonable. The smaller house size, high poverty level, and higher student-teacher ratio would likely contribute to a lower price compared to other homes in the dataset.\n",
        "\n",
        "### **Client 3:**\n",
        "\n",
        "* 8 rooms: Significantly above average for the dataset.\n",
        "* 7% poverty level: Much lower than the average, suggesting a highly desirable neighborhood.\n",
        "* 12-to-1 student-teacher ratio: Lower than average, indicating potentially better-quality schools.\n",
        "\n",
        "Based on these features, the predicted price of $497,250.00 appears reasonable. The large house size, low poverty level, and lower student-teacher ratio would likely contribute to a higher price compared to other homes in the dataset."
      ],
      "metadata": {
        "id": "SOUGyaKtjlTg"
      }
    },
    {
      "cell_type": "code",
      "source": [
        "import pickle\n",
        "\n",
        "filename = 'model.pkl'\n",
        "with open(filename, 'wb') as file:\n",
        "    pickle.dump(reg, file)\n",
        "\n",
        "print(f\"Model saved as {filename}\")"
      ],
      "metadata": {
        "colab": {
          "base_uri": "https://localhost:8080/",
          "height": 0
        },
        "id": "s-4Due23ieov",
        "outputId": "348706c2-e5bc-4db9-e0b0-4e39f21394a2"
      },
      "execution_count": 322,
      "outputs": [
        {
          "output_type": "stream",
          "name": "stdout",
          "text": [
            "Model saved as model.pkl\n"
          ]
        }
      ]
    },
    {
      "cell_type": "code",
      "source": [],
      "metadata": {
        "id": "UWJ69OMpFwUg"
      },
      "execution_count": 322,
      "outputs": []
    },
    {
      "cell_type": "code",
      "source": [
        "print (\"Thank You for ever, Eng/ George Samuel \")\n",
        "print (\"Your Student Mohamed Ayman\")"
      ],
      "metadata": {
        "colab": {
          "base_uri": "https://localhost:8080/",
          "height": 0
        },
        "id": "yHdLBn3Kwysk",
        "outputId": "77bb038a-f8fe-4012-a653-d4536a7ce12a"
      },
      "execution_count": 323,
      "outputs": [
        {
          "output_type": "stream",
          "name": "stdout",
          "text": [
            "Thank You for ever, Eng/ George Samuel \n",
            "Your Student Mohamed Ayman\n"
          ]
        }
      ]
    }
  ]
}