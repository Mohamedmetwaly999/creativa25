{
 "cells": [
  {
   "cell_type": "code",
   "execution_count": 7,
   "metadata": {},
   "outputs": [
    {
     "data": {
      "text/plain": [
       "tuple"
      ]
     },
     "execution_count": 7,
     "metadata": {},
     "output_type": "execute_result"
    }
   ],
   "source": [
    "def fun(*x):\n",
    "    return x\n",
    "    \n",
    "fun(2)    \n",
    "    "
   ]
  },
  {
   "cell_type": "markdown",
   "metadata": {},
   "source": [
    "lambda"
   ]
  },
  {
   "cell_type": "code",
   "execution_count": 3,
   "metadata": {},
   "outputs": [
    {
     "name": "stdout",
     "output_type": "stream",
     "text": [
      "20\n"
     ]
    }
   ],
   "source": [
    "z=lambda x:x+10\n",
    "print(z(10))\n"
   ]
  },
  {
   "cell_type": "code",
   "execution_count": 13,
   "metadata": {},
   "outputs": [
    {
     "name": "stdout",
     "output_type": "stream",
     "text": [
      "1\n",
      "3\n",
      "5\n"
     ]
    }
   ],
   "source": [
    "list=[1,2,3,4,5,6]\n",
    "for i in list:\n",
    "    if i % 2 != 0 :\n",
    "        print(i)\n",
    "        \n",
    "         "
   ]
  },
  {
   "cell_type": "code",
   "execution_count": 16,
   "metadata": {},
   "outputs": [
    {
     "name": "stdout",
     "output_type": "stream",
     "text": [
      "odd is 1\n",
      "odd is 3\n"
     ]
    }
   ],
   "source": [
    "list=[1,2,3,4]\n",
    "def odd(list):\n",
    "    for i in list:\n",
    "        if i % 2 != 0 :\n",
    "            print(f\"odd is {i}\")\n",
    "            \n",
    "odd(list)"
   ]
  },
  {
   "cell_type": "code",
   "execution_count": 22,
   "metadata": {},
   "outputs": [
    {
     "name": "stdout",
     "output_type": "stream",
     "text": [
      "3 is odd\n"
     ]
    }
   ],
   "source": [
    "\n",
    "def even_odd(x):\n",
    "    for i in list:\n",
    "        if x % 2 == 0 :\n",
    "            print(f\"{x} is even\")\n",
    "            break\n",
    "        elif x%2 !=0:\n",
    "            print(f\"{x} is odd\")\n",
    "            break\n",
    "        \n",
    "            \n",
    "even_odd(3)"
   ]
  },
  {
   "cell_type": "code",
   "execution_count": 36,
   "metadata": {},
   "outputs": [
    {
     "name": "stdout",
     "output_type": "stream",
     "text": [
      "22\n"
     ]
    }
   ],
   "source": [
    "list=[1,2,3,4,5,6]\n",
    "def add(list):\n",
    "    sum=1\n",
    "    for i in list:\n",
    "        sum+=i\n",
    "    print(sum)\n",
    "add(list)  \n",
    "    "
   ]
  },
  {
   "cell_type": "code",
   "execution_count": 2,
   "metadata": {},
   "outputs": [
    {
     "name": "stdout",
     "output_type": "stream",
     "text": [
      "[1, 4, 7]\n"
     ]
    }
   ],
   "source": [
    "list=[[1,2,3],[4,5,6],[7,8,9]]\n",
    "x=[x[0] for x in list ]\n",
    "print(x)"
   ]
  },
  {
   "cell_type": "code",
   "execution_count": 3,
   "metadata": {},
   "outputs": [
    {
     "name": "stdout",
     "output_type": "stream",
     "text": [
      "[4, 7]\n"
     ]
    }
   ],
   "source": [
    "list=[[1,2,3],[4,5,6],[7,8,9]]\n",
    "x=[x[0] for x in list if x[0]>3 ]\n",
    "print(x)"
   ]
  },
  {
   "cell_type": "markdown",
   "metadata": {},
   "source": [
    "recursion"
   ]
  },
  {
   "cell_type": "code",
   "execution_count": 4,
   "metadata": {},
   "outputs": [
    {
     "data": {
      "text/plain": [
       "15"
      ]
     },
     "execution_count": 4,
     "metadata": {},
     "output_type": "execute_result"
    }
   ],
   "source": [
    "def rec(x):\n",
    "    if x<=1:\n",
    "        return x\n",
    "    return x+rec(x-1)\n",
    "rec(5)"
   ]
  },
  {
   "cell_type": "code",
   "execution_count": 23,
   "metadata": {},
   "outputs": [
    {
     "name": "stdout",
     "output_type": "stream",
     "text": [
      "my name is  \n",
      "my age is\n"
     ]
    }
   ],
   "source": [
    "class STUDENT:\n",
    "    name=\"mohamed\"\n",
    "    age=20\n",
    "    \n",
    "    def info(self):\n",
    "        print(f\"my name is  \")\n",
    "        print(f\"my age is\")\n",
    "s1=STUDENT()       \n",
    "\n",
    "s1.info()"
   ]
  }
 ],
 "metadata": {
  "kernelspec": {
   "display_name": "newenv",
   "language": "python",
   "name": "python3"
  },
  "language_info": {
   "codemirror_mode": {
    "name": "ipython",
    "version": 3
   },
   "file_extension": ".py",
   "mimetype": "text/x-python",
   "name": "python",
   "nbconvert_exporter": "python",
   "pygments_lexer": "ipython3",
   "version": "3.8.20"
  }
 },
 "nbformat": 4,
 "nbformat_minor": 2
}
